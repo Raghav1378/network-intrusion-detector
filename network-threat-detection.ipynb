{
 "cells": [
  {
   "cell_type": "markdown",
   "id": "70f74f9b",
   "metadata": {
    "papermill": {
     "duration": 0.009259,
     "end_time": "2025-07-21T10:46:05.757866",
     "exception": false,
     "start_time": "2025-07-21T10:46:05.748607",
     "status": "completed"
    },
    "tags": []
   },
   "source": [
    "#### Tools"
   ]
  },
  {
   "cell_type": "code",
   "execution_count": null,
   "id": "cee2e283",
   "metadata": {},
   "outputs": [],
   "source": []
  },
  {
   "cell_type": "code",
   "execution_count": 2,
   "id": "e28c0346",
   "metadata": {
    "execution": {
     "iopub.execute_input": "2025-07-21T10:46:11.930206Z",
     "iopub.status.busy": "2025-07-21T10:46:11.929800Z",
     "iopub.status.idle": "2025-07-21T10:46:27.483002Z",
     "shell.execute_reply": "2025-07-21T10:46:27.481717Z"
    },
    "papermill": {
     "duration": 15.565334,
     "end_time": "2025-07-21T10:46:27.485242",
     "exception": false,
     "start_time": "2025-07-21T10:46:11.919908",
     "status": "completed"
    },
    "tags": []
   },
   "outputs": [
    {
     "name": "stderr",
     "output_type": "stream",
     "text": [
      "c:\\Users\\91800\\Desktop\\network-threat\\venv\\lib\\site-packages\\tqdm\\auto.py:21: TqdmWarning: IProgress not found. Please update jupyter and ipywidgets. See https://ipywidgets.readthedocs.io/en/stable/user_install.html\n",
      "  from .autonotebook import tqdm as notebook_tqdm\n"
     ]
    }
   ],
   "source": [
    "import pandas as pd\n",
    "import numpy as np\n",
    "import seaborn as sns\n",
    "import matplotlib.pyplot as plt\n",
    "\n",
    "from sklearn.preprocessing import LabelEncoder, StandardScaler\n",
    "from sklearn.model_selection import train_test_split\n",
    "from sklearn.linear_model import LogisticRegression\n",
    "from sklearn.neighbors import KNeighborsClassifier\n",
    "from sklearn.tree import DecisionTreeClassifier\n",
    "from sklearn.ensemble import RandomForestClassifier\n",
    "from sklearn.svm import SVC\n",
    "from sklearn.neural_network import MLPClassifier\n",
    "from sklearn.metrics import classification_report, accuracy_score, confusion_matrix, ConfusionMatrixDisplay\n",
    "from sklearn.model_selection import train_test_split\n",
    "\n",
    "import xgboost as xgb\n",
    "import shap\n"
   ]
  },
  {
   "cell_type": "markdown",
   "id": "fe046fef",
   "metadata": {
    "papermill": {
     "duration": 0.008267,
     "end_time": "2025-07-21T10:46:27.502264",
     "exception": false,
     "start_time": "2025-07-21T10:46:27.493997",
     "status": "completed"
    },
    "tags": []
   },
   "source": [
    "## EDA"
   ]
  },
  {
   "cell_type": "code",
   "execution_count": 3,
   "id": "c4f85558",
   "metadata": {
    "_cell_guid": "b1076dfc-b9ad-4769-8c92-a6c4dae69d19",
    "_uuid": "8f2839f25d086af736a60e9eeb907d3b93b6e0e5",
    "execution": {
     "iopub.execute_input": "2025-07-21T10:46:27.522079Z",
     "iopub.status.busy": "2025-07-21T10:46:27.520411Z",
     "iopub.status.idle": "2025-07-21T10:46:27.586192Z",
     "shell.execute_reply": "2025-07-21T10:46:27.584916Z"
    },
    "papermill": {
     "duration": 0.077716,
     "end_time": "2025-07-21T10:46:27.588319",
     "exception": false,
     "start_time": "2025-07-21T10:46:27.510603",
     "status": "completed"
    },
    "tags": []
   },
   "outputs": [],
   "source": [
    "df = pd.read_csv('Network_logs.csv')\n"
   ]
  },
  {
   "cell_type": "code",
   "execution_count": 4,
   "id": "dc9b650c",
   "metadata": {
    "execution": {
     "iopub.execute_input": "2025-07-21T10:46:27.607260Z",
     "iopub.status.busy": "2025-07-21T10:46:27.606823Z",
     "iopub.status.idle": "2025-07-21T10:46:27.642929Z",
     "shell.execute_reply": "2025-07-21T10:46:27.641589Z"
    },
    "papermill": {
     "duration": 0.047841,
     "end_time": "2025-07-21T10:46:27.644754",
     "exception": false,
     "start_time": "2025-07-21T10:46:27.596913",
     "status": "completed"
    },
    "tags": []
   },
   "outputs": [
    {
     "name": "stdout",
     "output_type": "stream",
     "text": [
      "Shape: (8846, 10)\n"
     ]
    },
    {
     "data": {
      "application/vnd.microsoft.datawrangler.viewer.v0+json": {
       "columns": [
        {
         "name": "index",
         "rawType": "int64",
         "type": "integer"
        },
        {
         "name": "Source_IP",
         "rawType": "object",
         "type": "string"
        },
        {
         "name": "Destination_IP",
         "rawType": "object",
         "type": "string"
        },
        {
         "name": "Port",
         "rawType": "int64",
         "type": "integer"
        },
        {
         "name": "Request_Type",
         "rawType": "object",
         "type": "string"
        },
        {
         "name": "Protocol",
         "rawType": "object",
         "type": "string"
        },
        {
         "name": "Payload_Size",
         "rawType": "int64",
         "type": "integer"
        },
        {
         "name": "User_Agent",
         "rawType": "object",
         "type": "string"
        },
        {
         "name": "Status",
         "rawType": "object",
         "type": "string"
        },
        {
         "name": "Intrusion",
         "rawType": "int64",
         "type": "integer"
        },
        {
         "name": "Scan_Type",
         "rawType": "object",
         "type": "string"
        }
       ],
       "ref": "d5f1a1fd-c9cb-46ab-8780-3291a1a69cff",
       "rows": [
        [
         "0",
         "192.168.142.55",
         "42.156.67.167",
         "80",
         "FTP",
         "UDP",
         "2369",
         "curl/7.68.0",
         "Success",
         "0",
         "Normal"
        ],
        [
         "1",
         "53.39.165.18",
         "94.60.242.119",
         "135",
         "SMTP",
         "UDP",
         "1536",
         "Wget/1.20.3",
         "Failure",
         "1",
         "BotAttack"
        ],
        [
         "2",
         "192.168.127.91",
         "7.10.192.3",
         "21",
         "SMTP",
         "TCP",
         "1183",
         "Wget/1.20.3",
         "Success",
         "0",
         "Normal"
        ],
        [
         "3",
         "192.168.30.40",
         "130.169.82.211",
         "25",
         "HTTPS",
         "TCP",
         "666",
         "Mozilla/5.0",
         "Success",
         "0",
         "Normal"
        ],
        [
         "4",
         "192.168.43.179",
         "35.140.102.220",
         "22",
         "FTP",
         "TCP",
         "2821",
         "Mozilla/5.0",
         "Success",
         "0",
         "Normal"
        ]
       ],
       "shape": {
        "columns": 10,
        "rows": 5
       }
      },
      "text/html": [
       "<div>\n",
       "<style scoped>\n",
       "    .dataframe tbody tr th:only-of-type {\n",
       "        vertical-align: middle;\n",
       "    }\n",
       "\n",
       "    .dataframe tbody tr th {\n",
       "        vertical-align: top;\n",
       "    }\n",
       "\n",
       "    .dataframe thead th {\n",
       "        text-align: right;\n",
       "    }\n",
       "</style>\n",
       "<table border=\"1\" class=\"dataframe\">\n",
       "  <thead>\n",
       "    <tr style=\"text-align: right;\">\n",
       "      <th></th>\n",
       "      <th>Source_IP</th>\n",
       "      <th>Destination_IP</th>\n",
       "      <th>Port</th>\n",
       "      <th>Request_Type</th>\n",
       "      <th>Protocol</th>\n",
       "      <th>Payload_Size</th>\n",
       "      <th>User_Agent</th>\n",
       "      <th>Status</th>\n",
       "      <th>Intrusion</th>\n",
       "      <th>Scan_Type</th>\n",
       "    </tr>\n",
       "  </thead>\n",
       "  <tbody>\n",
       "    <tr>\n",
       "      <th>0</th>\n",
       "      <td>192.168.142.55</td>\n",
       "      <td>42.156.67.167</td>\n",
       "      <td>80</td>\n",
       "      <td>FTP</td>\n",
       "      <td>UDP</td>\n",
       "      <td>2369</td>\n",
       "      <td>curl/7.68.0</td>\n",
       "      <td>Success</td>\n",
       "      <td>0</td>\n",
       "      <td>Normal</td>\n",
       "    </tr>\n",
       "    <tr>\n",
       "      <th>1</th>\n",
       "      <td>53.39.165.18</td>\n",
       "      <td>94.60.242.119</td>\n",
       "      <td>135</td>\n",
       "      <td>SMTP</td>\n",
       "      <td>UDP</td>\n",
       "      <td>1536</td>\n",
       "      <td>Wget/1.20.3</td>\n",
       "      <td>Failure</td>\n",
       "      <td>1</td>\n",
       "      <td>BotAttack</td>\n",
       "    </tr>\n",
       "    <tr>\n",
       "      <th>2</th>\n",
       "      <td>192.168.127.91</td>\n",
       "      <td>7.10.192.3</td>\n",
       "      <td>21</td>\n",
       "      <td>SMTP</td>\n",
       "      <td>TCP</td>\n",
       "      <td>1183</td>\n",
       "      <td>Wget/1.20.3</td>\n",
       "      <td>Success</td>\n",
       "      <td>0</td>\n",
       "      <td>Normal</td>\n",
       "    </tr>\n",
       "    <tr>\n",
       "      <th>3</th>\n",
       "      <td>192.168.30.40</td>\n",
       "      <td>130.169.82.211</td>\n",
       "      <td>25</td>\n",
       "      <td>HTTPS</td>\n",
       "      <td>TCP</td>\n",
       "      <td>666</td>\n",
       "      <td>Mozilla/5.0</td>\n",
       "      <td>Success</td>\n",
       "      <td>0</td>\n",
       "      <td>Normal</td>\n",
       "    </tr>\n",
       "    <tr>\n",
       "      <th>4</th>\n",
       "      <td>192.168.43.179</td>\n",
       "      <td>35.140.102.220</td>\n",
       "      <td>22</td>\n",
       "      <td>FTP</td>\n",
       "      <td>TCP</td>\n",
       "      <td>2821</td>\n",
       "      <td>Mozilla/5.0</td>\n",
       "      <td>Success</td>\n",
       "      <td>0</td>\n",
       "      <td>Normal</td>\n",
       "    </tr>\n",
       "  </tbody>\n",
       "</table>\n",
       "</div>"
      ],
      "text/plain": [
       "        Source_IP  Destination_IP  Port Request_Type Protocol  Payload_Size  \\\n",
       "0  192.168.142.55   42.156.67.167    80          FTP      UDP          2369   \n",
       "1    53.39.165.18   94.60.242.119   135         SMTP      UDP          1536   \n",
       "2  192.168.127.91      7.10.192.3    21         SMTP      TCP          1183   \n",
       "3   192.168.30.40  130.169.82.211    25        HTTPS      TCP           666   \n",
       "4  192.168.43.179  35.140.102.220    22          FTP      TCP          2821   \n",
       "\n",
       "    User_Agent   Status  Intrusion  Scan_Type  \n",
       "0  curl/7.68.0  Success          0     Normal  \n",
       "1  Wget/1.20.3  Failure          1  BotAttack  \n",
       "2  Wget/1.20.3  Success          0     Normal  \n",
       "3  Mozilla/5.0  Success          0     Normal  \n",
       "4  Mozilla/5.0  Success          0     Normal  "
      ]
     },
     "execution_count": 4,
     "metadata": {},
     "output_type": "execute_result"
    }
   ],
   "source": [
    "print(\"Shape:\", df.shape)\n",
    "df.head()"
   ]
  },
  {
   "cell_type": "code",
   "execution_count": 5,
   "id": "b13c57b8",
   "metadata": {
    "execution": {
     "iopub.execute_input": "2025-07-21T10:46:27.665200Z",
     "iopub.status.busy": "2025-07-21T10:46:27.663795Z",
     "iopub.status.idle": "2025-07-21T10:46:27.698798Z",
     "shell.execute_reply": "2025-07-21T10:46:27.697344Z"
    },
    "papermill": {
     "duration": 0.047312,
     "end_time": "2025-07-21T10:46:27.700818",
     "exception": false,
     "start_time": "2025-07-21T10:46:27.653506",
     "status": "completed"
    },
    "tags": []
   },
   "outputs": [
    {
     "name": "stdout",
     "output_type": "stream",
     "text": [
      "<class 'pandas.core.frame.DataFrame'>\n",
      "RangeIndex: 8846 entries, 0 to 8845\n",
      "Data columns (total 10 columns):\n",
      " #   Column          Non-Null Count  Dtype \n",
      "---  ------          --------------  ----- \n",
      " 0   Source_IP       8846 non-null   object\n",
      " 1   Destination_IP  8846 non-null   object\n",
      " 2   Port            8846 non-null   int64 \n",
      " 3   Request_Type    8846 non-null   object\n",
      " 4   Protocol        8846 non-null   object\n",
      " 5   Payload_Size    8846 non-null   int64 \n",
      " 6   User_Agent      8846 non-null   object\n",
      " 7   Status          8846 non-null   object\n",
      " 8   Intrusion       8846 non-null   int64 \n",
      " 9   Scan_Type       8846 non-null   object\n",
      "dtypes: int64(3), object(7)\n",
      "memory usage: 691.2+ KB\n"
     ]
    }
   ],
   "source": [
    "df.info()"
   ]
  },
  {
   "cell_type": "code",
   "execution_count": 6,
   "id": "182e4bf1",
   "metadata": {
    "execution": {
     "iopub.execute_input": "2025-07-21T10:46:27.723122Z",
     "iopub.status.busy": "2025-07-21T10:46:27.722764Z",
     "iopub.status.idle": "2025-07-21T10:46:27.735822Z",
     "shell.execute_reply": "2025-07-21T10:46:27.734569Z"
    },
    "papermill": {
     "duration": 0.026574,
     "end_time": "2025-07-21T10:46:27.737916",
     "exception": false,
     "start_time": "2025-07-21T10:46:27.711342",
     "status": "completed"
    },
    "tags": []
   },
   "outputs": [
    {
     "data": {
      "application/vnd.microsoft.datawrangler.viewer.v0+json": {
       "columns": [
        {
         "name": "index",
         "rawType": "object",
         "type": "string"
        },
        {
         "name": "0",
         "rawType": "int64",
         "type": "integer"
        }
       ],
       "ref": "b43fb391-0071-4f0d-b885-826e595bb46b",
       "rows": [
        [
         "Source_IP",
         "0"
        ],
        [
         "Destination_IP",
         "0"
        ],
        [
         "Port",
         "0"
        ],
        [
         "Request_Type",
         "0"
        ],
        [
         "Protocol",
         "0"
        ],
        [
         "Payload_Size",
         "0"
        ],
        [
         "User_Agent",
         "0"
        ],
        [
         "Status",
         "0"
        ],
        [
         "Intrusion",
         "0"
        ],
        [
         "Scan_Type",
         "0"
        ]
       ],
       "shape": {
        "columns": 1,
        "rows": 10
       }
      },
      "text/plain": [
       "Source_IP         0\n",
       "Destination_IP    0\n",
       "Port              0\n",
       "Request_Type      0\n",
       "Protocol          0\n",
       "Payload_Size      0\n",
       "User_Agent        0\n",
       "Status            0\n",
       "Intrusion         0\n",
       "Scan_Type         0\n",
       "dtype: int64"
      ]
     },
     "execution_count": 6,
     "metadata": {},
     "output_type": "execute_result"
    }
   ],
   "source": [
    "df.isnull().sum()\n"
   ]
  },
  {
   "cell_type": "code",
   "execution_count": 7,
   "id": "d3ecc5f3",
   "metadata": {
    "execution": {
     "iopub.execute_input": "2025-07-21T10:46:27.759333Z",
     "iopub.status.busy": "2025-07-21T10:46:27.758921Z",
     "iopub.status.idle": "2025-07-21T10:46:28.009558Z",
     "shell.execute_reply": "2025-07-21T10:46:28.008264Z"
    },
    "papermill": {
     "duration": 0.263507,
     "end_time": "2025-07-21T10:46:28.011561",
     "exception": false,
     "start_time": "2025-07-21T10:46:27.748054",
     "status": "completed"
    },
    "tags": []
   },
   "outputs": [
    {
     "name": "stderr",
     "output_type": "stream",
     "text": [
      "C:\\Users\\91800\\AppData\\Local\\Temp\\ipykernel_6172\\265494217.py:2: FutureWarning: \n",
      "\n",
      "Passing `palette` without assigning `hue` is deprecated and will be removed in v0.14.0. Assign the `x` variable to `hue` and set `legend=False` for the same effect.\n",
      "\n",
      "  sns.countplot(x='Scan_Type', data=df, palette='viridis')\n"
     ]
    },
    {
     "data": {
      "image/png": "[encoded data removed]",
      "text/plain": [
       "<Figure size 600x400 with 1 Axes>"
      ]
     },
     "metadata": {},
     "output_type": "display_data"
    },
    {
     "name": "stdout",
     "output_type": "stream",
     "text": [
      "Scan_Type\n",
      "Normal       0.904\n",
      "BotAttack    0.054\n",
      "PortScan     0.042\n",
      "Name: proportion, dtype: float64\n"
     ]
    }
   ],
   "source": [
    "plt.figure(figsize=(6, 4))\n",
    "sns.countplot(x='Scan_Type', data=df, palette='viridis')\n",
    "plt.title('Scan Type Distribution')\n",
    "plt.xlabel('Scan Type')\n",
    "plt.ylabel('Count')\n",
    "plt.show()\n",
    "\n",
    "print(df['Scan_Type'].value_counts(normalize=True).round(3))\n"
   ]
  },
  {
   "cell_type": "markdown",
   "id": "d138b91b",
   "metadata": {
    "papermill": {
     "duration": 0.009456,
     "end_time": "2025-07-21T10:46:28.031156",
     "exception": false,
     "start_time": "2025-07-21T10:46:28.021700",
     "status": "completed"
    },
    "tags": []
   },
   "source": [
    "There is a severe data imbalance in this dataset, we may consider using a certain metric data balancing techniques."
   ]
  },
  {
   "cell_type": "code",
   "execution_count": 8,
   "id": "35352a0a",
   "metadata": {
    "execution": {
     "iopub.execute_input": "2025-07-21T10:46:28.055082Z",
     "iopub.status.busy": "2025-07-21T10:46:28.054742Z",
     "iopub.status.idle": "2025-07-21T10:46:28.522366Z",
     "shell.execute_reply": "2025-07-21T10:46:28.521094Z"
    },
    "papermill": {
     "duration": 0.483546,
     "end_time": "2025-07-21T10:46:28.524520",
     "exception": false,
     "start_time": "2025-07-21T10:46:28.040974",
     "status": "completed"
    },
    "tags": []
   },
   "outputs": [
    {
     "data": {
      "image/png": "[encoded data removed]",
      "text/plain": [
       "<Figure size 1000x400 with 1 Axes>"
      ]
     },
     "metadata": {},
     "output_type": "display_data"
    }
   ],
   "source": [
    "plt.figure(figsize=(10, 4))\n",
    "sns.countplot(x='Request_Type', hue='Scan_Type', data=df, palette='Set2')\n",
    "plt.title('Request Type by Scan Type')\n",
    "plt.xticks(rotation=45)\n",
    "plt.show()\n"
   ]
  },
  {
   "cell_type": "markdown",
   "id": "53b067b2",
   "metadata": {
    "papermill": {
     "duration": 0.011359,
     "end_time": "2025-07-21T10:46:28.553830",
     "exception": false,
     "start_time": "2025-07-21T10:46:28.542471",
     "status": "completed"
    },
    "tags": []
   },
   "source": [
    "The scan_type distribution aginst request_type is semi-balanced, there is no certain request type that guarntee a bot attack."
   ]
  },
  {
   "cell_type": "code",
   "execution_count": 9,
   "id": "78693433",
   "metadata": {
    "execution": {
     "iopub.execute_input": "2025-07-21T10:46:28.580176Z",
     "iopub.status.busy": "2025-07-21T10:46:28.579786Z",
     "iopub.status.idle": "2025-07-21T10:46:28.792314Z",
     "shell.execute_reply": "2025-07-21T10:46:28.791094Z"
    },
    "papermill": {
     "duration": 0.227389,
     "end_time": "2025-07-21T10:46:28.794226",
     "exception": false,
     "start_time": "2025-07-21T10:46:28.566837",
     "status": "completed"
    },
    "tags": []
   },
   "outputs": [
    {
     "data": {
      "image/png": "[encoded data removed]",
      "text/plain": [
       "<Figure size 640x480 with 1 Axes>"
      ]
     },
     "metadata": {},
     "output_type": "display_data"
    }
   ],
   "source": [
    "sns.countplot(x='Protocol', hue='Scan_Type', data=df, palette='Set3')\n",
    "plt.title('Protocol Distribution by Scan Type')\n",
    "plt.show()\n"
   ]
  },
  {
   "cell_type": "markdown",
   "id": "e107a7f8",
   "metadata": {
    "papermill": {
     "duration": 0.011123,
     "end_time": "2025-07-21T10:46:28.817290",
     "exception": false,
     "start_time": "2025-07-21T10:46:28.806167",
     "status": "completed"
    },
    "tags": []
   },
   "source": [
    "Same Conclusion As Above."
   ]
  },
  {
   "cell_type": "code",
   "execution_count": 10,
   "id": "4b8afa07",
   "metadata": {
    "execution": {
     "iopub.execute_input": "2025-07-21T10:46:28.914669Z",
     "iopub.status.busy": "2025-07-21T10:46:28.914190Z",
     "iopub.status.idle": "2025-07-21T10:46:29.118954Z",
     "shell.execute_reply": "2025-07-21T10:46:29.117340Z"
    },
    "papermill": {
     "duration": 0.219211,
     "end_time": "2025-07-21T10:46:29.120610",
     "exception": false,
     "start_time": "2025-07-21T10:46:28.901399",
     "status": "completed"
    },
    "tags": []
   },
   "outputs": [
    {
     "data": {
      "image/png": "[encoded data removed]",
      "text/plain": [
       "<Figure size 640x480 with 1 Axes>"
      ]
     },
     "metadata": {},
     "output_type": "display_data"
    }
   ],
   "source": [
    "sns.countplot(x='Status', hue='Scan_Type', data=df)\n",
    "plt.title('Request Status by Scan Type')\n",
    "plt.show()\n"
   ]
  },
  {
   "cell_type": "markdown",
   "id": "7cd8c145",
   "metadata": {
    "papermill": {
     "duration": 0.011714,
     "end_time": "2025-07-21T10:46:29.144617",
     "exception": false,
     "start_time": "2025-07-21T10:46:29.132903",
     "status": "completed"
    },
    "tags": []
   },
   "source": [
    "Most Normal requests are successful, while BotAttack and PortScan requests often fail. This suggests that the Status feature can help distinguish between normal and malicious traffic."
   ]
  },
  {
   "cell_type": "code",
   "execution_count": 11,
   "id": "419810c6",
   "metadata": {
    "execution": {
     "iopub.execute_input": "2025-07-21T10:46:29.170600Z",
     "iopub.status.busy": "2025-07-21T10:46:29.170144Z",
     "iopub.status.idle": "2025-07-21T10:46:29.686854Z",
     "shell.execute_reply": "2025-07-21T10:46:29.685727Z"
    },
    "papermill": {
     "duration": 0.531874,
     "end_time": "2025-07-21T10:46:29.688570",
     "exception": false,
     "start_time": "2025-07-21T10:46:29.156696",
     "status": "completed"
    },
    "tags": []
   },
   "outputs": [
    {
     "data": {
      "image/png": "[encoded data removed]",
      "text/plain": [
       "<Figure size 640x480 with 1 Axes>"
      ]
     },
     "metadata": {},
     "output_type": "display_data"
    }
   ],
   "source": [
    "sns.histplot(data=df, x='Payload_Size', hue='Scan_Type', bins=30, kde=True, multiple='stack')\n",
    "plt.title('Payload Size Distribution by Scan Type')\n",
    "plt.show()\n"
   ]
  },
  {
   "cell_type": "markdown",
   "id": "275aa782",
   "metadata": {
    "papermill": {
     "duration": 0.013906,
     "end_time": "2025-07-21T10:46:29.716113",
     "exception": false,
     "start_time": "2025-07-21T10:46:29.702207",
     "status": "completed"
    },
    "tags": []
   },
   "source": [
    "Normal traffic has a wide range of payload sizes, while BotAttack are mostly  big payloads. and PortScan payloads are limited to samll sizes, This suggests that payload size is a strong feature for distinguishing malicious activity."
   ]
  },
  {
   "cell_type": "code",
   "execution_count": 12,
   "id": "aaffcaa2",
   "metadata": {
    "execution": {
     "iopub.execute_input": "2025-07-21T10:46:29.746840Z",
     "iopub.status.busy": "2025-07-21T10:46:29.746415Z",
     "iopub.status.idle": "2025-07-21T10:46:29.926793Z",
     "shell.execute_reply": "2025-07-21T10:46:29.925584Z"
    },
    "papermill": {
     "duration": 0.198608,
     "end_time": "2025-07-21T10:46:29.928556",
     "exception": false,
     "start_time": "2025-07-21T10:46:29.729948",
     "status": "completed"
    },
    "tags": []
   },
   "outputs": [
    {
     "data": {
      "image/png": "[encoded data removed]",
      "text/plain": [
       "<Figure size 800x500 with 1 Axes>"
      ]
     },
     "metadata": {},
     "output_type": "display_data"
    }
   ],
   "source": [
    "plt.figure(figsize=(8, 5))\n",
    "sns.boxplot(x='Scan_Type', y='Payload_Size', data=df)\n",
    "plt.title('Payload Size by Scan Type')\n",
    "plt.show()\n"
   ]
  },
  {
   "cell_type": "markdown",
   "id": "029287a8",
   "metadata": {
    "papermill": {
     "duration": 0.013712,
     "end_time": "2025-07-21T10:46:29.956000",
     "exception": false,
     "start_time": "2025-07-21T10:46:29.942288",
     "status": "completed"
    },
    "tags": []
   },
   "source": [
    "Same conclusions as before."
   ]
  },
  {
   "cell_type": "code",
   "execution_count": 13,
   "id": "49384298",
   "metadata": {
    "execution": {
     "iopub.execute_input": "2025-07-21T10:46:29.985076Z",
     "iopub.status.busy": "2025-07-21T10:46:29.984748Z",
     "iopub.status.idle": "2025-07-21T10:46:30.000821Z",
     "shell.execute_reply": "2025-07-21T10:46:29.999368Z"
    },
    "papermill": {
     "duration": 0.032805,
     "end_time": "2025-07-21T10:46:30.002754",
     "exception": false,
     "start_time": "2025-07-21T10:46:29.969949",
     "status": "completed"
    },
    "tags": []
   },
   "outputs": [
    {
     "name": "stdout",
     "output_type": "stream",
     "text": [
      "Top 10 Source IPs:\n",
      "Source_IP\n",
      "33.5.52.172        58\n",
      "154.113.2.100      57\n",
      "95.139.88.51       57\n",
      "78.199.98.120      56\n",
      "197.134.233.238    54\n",
      "94.40.34.8         48\n",
      "216.181.134.4      46\n",
      "201.232.85.16      46\n",
      "161.77.134.239     45\n",
      "219.110.174.163    44\n",
      "Name: count, dtype: int64\n",
      "\n",
      "Top 10 Destination IPs:\n",
      "Destination_IP\n",
      "168.101.218.238    1\n",
      "42.156.67.167      1\n",
      "94.60.242.119      1\n",
      "7.10.192.3         1\n",
      "130.169.82.211     1\n",
      "35.140.102.220     1\n",
      "1.236.8.103        1\n",
      "88.97.46.184       1\n",
      "210.58.142.213     1\n",
      "212.23.68.106      1\n",
      "Name: count, dtype: int64\n"
     ]
    }
   ],
   "source": [
    "top_sources = df['Source_IP'].value_counts().head(10)\n",
    "top_dest = df['Destination_IP'].value_counts().head(10)\n",
    "\n",
    "print(\"Top 10 Source IPs:\")\n",
    "print(top_sources)\n",
    "\n",
    "print(\"\\nTop 10 Destination IPs:\")\n",
    "print(top_dest)\n"
   ]
  },
  {
   "cell_type": "markdown",
   "id": "2e2087b8",
   "metadata": {
    "papermill": {
     "duration": 0.013606,
     "end_time": "2025-07-21T10:46:30.030426",
     "exception": false,
     "start_time": "2025-07-21T10:46:30.016820",
     "status": "completed"
    },
    "tags": []
   },
   "source": [
    "We won't take into account the ip sources, since it is not a very refelctive and can not be generalized."
   ]
  },
  {
   "cell_type": "code",
   "execution_count": 14,
   "id": "a0a795cb",
   "metadata": {
    "execution": {
     "iopub.execute_input": "2025-07-21T10:46:30.061298Z",
     "iopub.status.busy": "2025-07-21T10:46:30.061007Z",
     "iopub.status.idle": "2025-07-21T10:46:30.467982Z",
     "shell.execute_reply": "2025-07-21T10:46:30.466443Z"
    },
    "papermill": {
     "duration": 0.425645,
     "end_time": "2025-07-21T10:46:30.469984",
     "exception": false,
     "start_time": "2025-07-21T10:46:30.044339",
     "status": "completed"
    },
    "tags": []
   },
   "outputs": [
    {
     "data": {
      "image/png": "[encoded data removed]",
      "text/plain": [
       "<Figure size 1000x600 with 2 Axes>"
      ]
     },
     "metadata": {},
     "output_type": "display_data"
    }
   ],
   "source": [
    "df_encoded = df.copy()\n",
    "\n",
    "# Encode categoricals\n",
    "for col in ['Request_Type', 'Protocol', 'User_Agent', 'Status', 'Scan_Type']:\n",
    "    df_encoded[col] = df_encoded[col].astype('category').cat.codes\n",
    "\n",
    "# Drop IPs for now\n",
    "df_encoded = df_encoded.drop(['Source_IP', 'Destination_IP'], axis=1)\n",
    "\n",
    "# Correlation heatmap\n",
    "plt.figure(figsize=(10, 6))\n",
    "sns.heatmap(df_encoded.corr(), annot=True, cmap='coolwarm', fmt=\".2f\")\n",
    "plt.title('Feature Correlation Heatmap')\n",
    "plt.show()\n"
   ]
  },
  {
   "cell_type": "markdown",
   "id": "d6c49e90",
   "metadata": {
    "papermill": {
     "duration": 0.016031,
     "end_time": "2025-07-21T10:46:30.502900",
     "exception": false,
     "start_time": "2025-07-21T10:46:30.486869",
     "status": "completed"
    },
    "tags": []
   },
   "source": [
    "There is no any strong colinearity between any two features, so we can proceed to the next step without droping any features."
   ]
  },
  {
   "cell_type": "markdown",
   "id": "dcabc96f",
   "metadata": {
    "papermill": {
     "duration": 0.01629,
     "end_time": "2025-07-21T10:46:30.535403",
     "exception": false,
     "start_time": "2025-07-21T10:46:30.519113",
     "status": "completed"
    },
    "tags": []
   },
   "source": [
    "## Data preparation"
   ]
  },
  {
   "cell_type": "code",
   "execution_count": 15,
   "id": "311978ea",
   "metadata": {
    "execution": {
     "iopub.execute_input": "2025-07-21T10:46:30.568693Z",
     "iopub.status.busy": "2025-07-21T10:46:30.568248Z",
     "iopub.status.idle": "2025-07-21T10:46:30.584635Z",
     "shell.execute_reply": "2025-07-21T10:46:30.583555Z"
    },
    "papermill": {
     "duration": 0.035487,
     "end_time": "2025-07-21T10:46:30.586612",
     "exception": false,
     "start_time": "2025-07-21T10:46:30.551125",
     "status": "completed"
    },
    "tags": []
   },
   "outputs": [
    {
     "data": {
      "application/vnd.microsoft.datawrangler.viewer.v0+json": {
       "columns": [
        {
         "name": "index",
         "rawType": "int64",
         "type": "integer"
        },
        {
         "name": "Source_IP",
         "rawType": "object",
         "type": "string"
        },
        {
         "name": "Destination_IP",
         "rawType": "object",
         "type": "string"
        },
        {
         "name": "Port",
         "rawType": "int64",
         "type": "integer"
        },
        {
         "name": "Request_Type",
         "rawType": "object",
         "type": "string"
        },
        {
         "name": "Protocol",
         "rawType": "object",
         "type": "string"
        },
        {
         "name": "Payload_Size",
         "rawType": "int64",
         "type": "integer"
        },
        {
         "name": "User_Agent",
         "rawType": "object",
         "type": "string"
        },
        {
         "name": "Status",
         "rawType": "object",
         "type": "string"
        },
        {
         "name": "Intrusion",
         "rawType": "int64",
         "type": "integer"
        },
        {
         "name": "Scan_Type",
         "rawType": "object",
         "type": "string"
        }
       ],
       "ref": "1563065e-0071-4342-943c-d35dcde615ce",
       "rows": [
        [
         "0",
         "192.168.142.55",
         "42.156.67.167",
         "80",
         "FTP",
         "UDP",
         "2369",
         "curl/7.68.0",
         "Success",
         "0",
         "Normal"
        ],
        [
         "1",
         "53.39.165.18",
         "94.60.242.119",
         "135",
         "SMTP",
         "UDP",
         "1536",
         "Wget/1.20.3",
         "Failure",
         "1",
         "BotAttack"
        ],
        [
         "2",
         "192.168.127.91",
         "7.10.192.3",
         "21",
         "SMTP",
         "TCP",
         "1183",
         "Wget/1.20.3",
         "Success",
         "0",
         "Normal"
        ],
        [
         "3",
         "192.168.30.40",
         "130.169.82.211",
         "25",
         "HTTPS",
         "TCP",
         "666",
         "Mozilla/5.0",
         "Success",
         "0",
         "Normal"
        ],
        [
         "4",
         "192.168.43.179",
         "35.140.102.220",
         "22",
         "FTP",
         "TCP",
         "2821",
         "Mozilla/5.0",
         "Success",
         "0",
         "Normal"
        ],
        [
         "5",
         "192.168.74.4",
         "1.236.8.103",
         "53",
         "HTTPS",
         "UDP",
         "2179",
         "Mozilla/5.0",
         "Success",
         "0",
         "Normal"
        ],
        [
         "6",
         "192.168.107.84",
         "88.97.46.184",
         "25",
         "HTTPS",
         "TCP",
         "1699",
         "Wget/1.20.3",
         "Success",
         "0",
         "Normal"
        ],
        [
         "7",
         "192.168.220.202",
         "210.58.142.213",
         "22",
         "DNS",
         "ICMP",
         "2104",
         "Nikto/2.1.6",
         "Success",
         "0",
         "Normal"
        ],
        [
         "8",
         "192.168.179.87",
         "212.23.68.106",
         "443",
         "SSH",
         "UDP",
         "1522",
         "curl/7.68.0",
         "Success",
         "0",
         "Normal"
        ],
        [
         "9",
         "192.168.36.39",
         "203.190.72.188",
         "22",
         "HTTPS",
         "UDP",
         "333",
         "curl/7.68.0",
         "Success",
         "0",
         "Normal"
        ],
        [
         "10",
         "192.168.255.127",
         "96.234.143.84",
         "25",
         "SSH",
         "ICMP",
         "2869",
         "curl/7.68.0",
         "Success",
         "0",
         "Normal"
        ],
        [
         "11",
         "192.168.60.1",
         "135.70.152.237",
         "80",
         "SSH",
         "UDP",
         "1078",
         "curl/7.68.0",
         "Success",
         "0",
         "Normal"
        ],
        [
         "12",
         "192.168.193.228",
         "99.255.64.186",
         "53",
         "HTTP",
         "UDP",
         "1491",
         "nmap/7.80",
         "Success",
         "0",
         "Normal"
        ],
        [
         "13",
         "192.168.25.10",
         "181.198.149.40",
         "80",
         "SSH",
         "TCP",
         "702",
         "nmap/7.80",
         "Success",
         "0",
         "Normal"
        ],
        [
         "14",
         "192.168.56.234",
         "151.151.202.202",
         "443",
         "HTTP",
         "ICMP",
         "1757",
         "Nikto/2.1.6",
         "Success",
         "0",
         "Normal"
        ],
        [
         "15",
         "192.168.163.105",
         "36.59.188.166",
         "53",
         "SSH",
         "TCP",
         "2041",
         "curl/7.68.0",
         "Failure",
         "0",
         "Normal"
        ],
        [
         "16",
         "192.168.1.200",
         "198.237.168.148",
         "21",
         "SMTP",
         "ICMP",
         "1151",
         "Wget/1.20.3",
         "Success",
         "0",
         "Normal"
        ],
        [
         "17",
         "192.168.65.35",
         "173.56.92.88",
         "22",
         "Telnet",
         "ICMP",
         "2713",
         "curl/7.68.0",
         "Success",
         "0",
         "Normal"
        ],
        [
         "18",
         "178.20.222.2",
         "206.164.156.21",
         "135",
         "HTTP",
         "UDP",
         "45",
         "Wget/1.20.3",
         "Failure",
         "1",
         "PortScan"
        ],
        [
         "19",
         "192.168.120.34",
         "126.158.33.116",
         "53",
         "HTTPS",
         "ICMP",
         "2602",
         "Mozilla/5.0",
         "Success",
         "0",
         "Normal"
        ],
        [
         "20",
         "192.168.214.141",
         "212.4.83.42",
         "443",
         "SSH",
         "TCP",
         "1747",
         "nmap/7.80",
         "Success",
         "0",
         "Normal"
        ],
        [
         "21",
         "201.232.85.16",
         "146.171.223.16",
         "135",
         "FTP",
         "ICMP",
         "13",
         "python-requests/2.25.1",
         "Failure",
         "1",
         "PortScan"
        ],
        [
         "22",
         "192.168.255.205",
         "208.138.169.175",
         "53",
         "DNS",
         "UDP",
         "2983",
         "Nikto/2.1.6",
         "Success",
         "0",
         "Normal"
        ],
        [
         "23",
         "192.168.254.96",
         "120.30.84.87",
         "25",
         "FTP",
         "TCP",
         "1308",
         "Wget/1.20.3",
         "Success",
         "0",
         "Normal"
        ],
        [
         "24",
         "192.168.93.6",
         "220.124.200.241",
         "25",
         "HTTP",
         "ICMP",
         "200",
         "python-requests/2.25.1",
         "Success",
         "0",
         "Normal"
        ],
        [
         "25",
         "192.168.74.16",
         "19.201.86.26",
         "443",
         "HTTPS",
         "UDP",
         "2904",
         "curl/7.68.0",
         "Success",
         "0",
         "Normal"
        ],
        [
         "26",
         "192.168.248.163",
         "152.44.162.12",
         "53",
         "HTTP",
         "ICMP",
         "1763",
         "nmap/7.80",
         "Success",
         "0",
         "Normal"
        ],
        [
         "27",
         "192.168.18.59",
         "162.47.29.195",
         "22",
         "HTTPS",
         "ICMP",
         "1940",
         "Wget/1.20.3",
         "Success",
         "0",
         "Normal"
        ],
        [
         "28",
         "192.168.174.203",
         "135.231.237.35",
         "21",
         "SSH",
         "TCP",
         "1910",
         "curl/7.68.0",
         "Success",
         "0",
         "Normal"
        ],
        [
         "29",
         "192.168.217.242",
         "157.51.38.220",
         "80",
         "HTTP",
         "TCP",
         "2311",
         "python-requests/2.25.1",
         "Success",
         "0",
         "Normal"
        ],
        [
         "30",
         "216.181.134.4",
         "106.179.185.195",
         "135",
         "FTP",
         "TCP",
         "1638",
         "Nikto/2.1.6",
         "Failure",
         "1",
         "BotAttack"
        ],
        [
         "31",
         "192.168.46.154",
         "160.96.68.40",
         "53",
         "DNS",
         "UDP",
         "674",
         "nmap/7.80",
         "Success",
         "0",
         "Normal"
        ],
        [
         "32",
         "192.168.190.188",
         "219.188.83.110",
         "21",
         "DNS",
         "UDP",
         "821",
         "Wget/1.20.3",
         "Success",
         "0",
         "Normal"
        ],
        [
         "33",
         "192.168.0.211",
         "9.1.28.67",
         "21",
         "SMTP",
         "TCP",
         "2208",
         "curl/7.68.0",
         "Success",
         "0",
         "Normal"
        ],
        [
         "34",
         "192.168.163.188",
         "177.254.3.109",
         "22",
         "FTP",
         "UDP",
         "2309",
         "curl/7.68.0",
         "Success",
         "0",
         "Normal"
        ],
        [
         "35",
         "192.168.15.169",
         "222.36.229.80",
         "21",
         "SMTP",
         "TCP",
         "344",
         "Mozilla/5.0",
         "Success",
         "0",
         "Normal"
        ],
        [
         "36",
         "192.168.199.17",
         "22.229.30.47",
         "53",
         "HTTP",
         "TCP",
         "1027",
         "Wget/1.20.3",
         "Success",
         "0",
         "Normal"
        ],
        [
         "37",
         "192.168.153.21",
         "207.73.245.155",
         "21",
         "HTTPS",
         "TCP",
         "2915",
         "nmap/7.80",
         "Success",
         "0",
         "Normal"
        ],
        [
         "38",
         "219.110.174.163",
         "23.165.120.135",
         "4444",
         "SSH",
         "TCP",
         "61",
         "nmap/7.80",
         "Failure",
         "1",
         "PortScan"
        ],
        [
         "39",
         "192.168.240.40",
         "214.183.156.141",
         "22",
         "HTTPS",
         "TCP",
         "2550",
         "nmap/7.80",
         "Success",
         "0",
         "Normal"
        ],
        [
         "40",
         "192.168.173.206",
         "91.203.250.223",
         "443",
         "FTP",
         "TCP",
         "1124",
         "Mozilla/5.0",
         "Success",
         "0",
         "Normal"
        ],
        [
         "41",
         "192.168.75.104",
         "108.165.240.31",
         "53",
         "HTTPS",
         "UDP",
         "848",
         "Wget/1.20.3",
         "Success",
         "0",
         "Normal"
        ],
        [
         "42",
         "192.168.189.211",
         "143.153.44.84",
         "25",
         "SSH",
         "UDP",
         "2538",
         "Nikto/2.1.6",
         "Success",
         "0",
         "Normal"
        ],
        [
         "43",
         "192.168.41.133",
         "196.10.61.102",
         "21",
         "FTP",
         "TCP",
         "1235",
         "curl/7.68.0",
         "Success",
         "0",
         "Normal"
        ],
        [
         "44",
         "33.5.52.172",
         "214.202.247.199",
         "135",
         "Telnet",
         "ICMP",
         "3649",
         "Nikto/2.1.6",
         "Failure",
         "1",
         "BotAttack"
        ],
        [
         "45",
         "192.168.149.67",
         "22.21.70.192",
         "443",
         "Telnet",
         "ICMP",
         "1037",
         "Nikto/2.1.6",
         "Success",
         "0",
         "Normal"
        ],
        [
         "46",
         "192.168.67.220",
         "138.76.134.116",
         "80",
         "HTTP",
         "TCP",
         "375",
         "curl/7.68.0",
         "Success",
         "0",
         "Normal"
        ],
        [
         "47",
         "192.168.119.10",
         "104.38.30.69",
         "53",
         "SMTP",
         "TCP",
         "2413",
         "Nikto/2.1.6",
         "Success",
         "0",
         "Normal"
        ],
        [
         "48",
         "192.168.100.50",
         "200.192.133.129",
         "22",
         "SSH",
         "UDP",
         "1520",
         "curl/7.68.0",
         "Failure",
         "0",
         "Normal"
        ],
        [
         "49",
         "192.168.142.216",
         "167.101.121.125",
         "21",
         "SSH",
         "ICMP",
         "2674",
         "python-requests/2.25.1",
         "Success",
         "0",
         "Normal"
        ]
       ],
       "shape": {
        "columns": 10,
        "rows": 8846
       }
      },
      "text/html": [
       "<div>\n",
       "<style scoped>\n",
       "    .dataframe tbody tr th:only-of-type {\n",
       "        vertical-align: middle;\n",
       "    }\n",
       "\n",
       "    .dataframe tbody tr th {\n",
       "        vertical-align: top;\n",
       "    }\n",
       "\n",
       "    .dataframe thead th {\n",
       "        text-align: right;\n",
       "    }\n",
       "</style>\n",
       "<table border=\"1\" class=\"dataframe\">\n",
       "  <thead>\n",
       "    <tr style=\"text-align: right;\">\n",
       "      <th></th>\n",
       "      <th>Source_IP</th>\n",
       "      <th>Destination_IP</th>\n",
       "      <th>Port</th>\n",
       "      <th>Request_Type</th>\n",
       "      <th>Protocol</th>\n",
       "      <th>Payload_Size</th>\n",
       "      <th>User_Agent</th>\n",
       "      <th>Status</th>\n",
       "      <th>Intrusion</th>\n",
       "      <th>Scan_Type</th>\n",
       "    </tr>\n",
       "  </thead>\n",
       "  <tbody>\n",
       "    <tr>\n",
       "      <th>0</th>\n",
       "      <td>192.168.142.55</td>\n",
       "      <td>42.156.67.167</td>\n",
       "      <td>80</td>\n",
       "      <td>FTP</td>\n",
       "      <td>UDP</td>\n",
       "      <td>2369</td>\n",
       "      <td>curl/7.68.0</td>\n",
       "      <td>Success</td>\n",
       "      <td>0</td>\n",
       "      <td>Normal</td>\n",
       "    </tr>\n",
       "    <tr>\n",
       "      <th>1</th>\n",
       "      <td>53.39.165.18</td>\n",
       "      <td>94.60.242.119</td>\n",
       "      <td>135</td>\n",
       "      <td>SMTP</td>\n",
       "      <td>UDP</td>\n",
       "      <td>1536</td>\n",
       "      <td>Wget/1.20.3</td>\n",
       "      <td>Failure</td>\n",
       "      <td>1</td>\n",
       "      <td>BotAttack</td>\n",
       "    </tr>\n",
       "    <tr>\n",
       "      <th>2</th>\n",
       "      <td>192.168.127.91</td>\n",
       "      <td>7.10.192.3</td>\n",
       "      <td>21</td>\n",
       "      <td>SMTP</td>\n",
       "      <td>TCP</td>\n",
       "      <td>1183</td>\n",
       "      <td>Wget/1.20.3</td>\n",
       "      <td>Success</td>\n",
       "      <td>0</td>\n",
       "      <td>Normal</td>\n",
       "    </tr>\n",
       "    <tr>\n",
       "      <th>3</th>\n",
       "      <td>192.168.30.40</td>\n",
       "      <td>130.169.82.211</td>\n",
       "      <td>25</td>\n",
       "      <td>HTTPS</td>\n",
       "      <td>TCP</td>\n",
       "      <td>666</td>\n",
       "      <td>Mozilla/5.0</td>\n",
       "      <td>Success</td>\n",
       "      <td>0</td>\n",
       "      <td>Normal</td>\n",
       "    </tr>\n",
       "    <tr>\n",
       "      <th>4</th>\n",
       "      <td>192.168.43.179</td>\n",
       "      <td>35.140.102.220</td>\n",
       "      <td>22</td>\n",
       "      <td>FTP</td>\n",
       "      <td>TCP</td>\n",
       "      <td>2821</td>\n",
       "      <td>Mozilla/5.0</td>\n",
       "      <td>Success</td>\n",
       "      <td>0</td>\n",
       "      <td>Normal</td>\n",
       "    </tr>\n",
       "    <tr>\n",
       "      <th>...</th>\n",
       "      <td>...</td>\n",
       "      <td>...</td>\n",
       "      <td>...</td>\n",
       "      <td>...</td>\n",
       "      <td>...</td>\n",
       "      <td>...</td>\n",
       "      <td>...</td>\n",
       "      <td>...</td>\n",
       "      <td>...</td>\n",
       "      <td>...</td>\n",
       "    </tr>\n",
       "    <tr>\n",
       "      <th>8841</th>\n",
       "      <td>192.168.62.111</td>\n",
       "      <td>217.201.54.87</td>\n",
       "      <td>22</td>\n",
       "      <td>DNS</td>\n",
       "      <td>UDP</td>\n",
       "      <td>651</td>\n",
       "      <td>python-requests/2.25.1</td>\n",
       "      <td>Failure</td>\n",
       "      <td>0</td>\n",
       "      <td>Normal</td>\n",
       "    </tr>\n",
       "    <tr>\n",
       "      <th>8842</th>\n",
       "      <td>192.168.154.70</td>\n",
       "      <td>11.93.131.139</td>\n",
       "      <td>22</td>\n",
       "      <td>Telnet</td>\n",
       "      <td>ICMP</td>\n",
       "      <td>592</td>\n",
       "      <td>Nikto/2.1.6</td>\n",
       "      <td>Success</td>\n",
       "      <td>0</td>\n",
       "      <td>Normal</td>\n",
       "    </tr>\n",
       "    <tr>\n",
       "      <th>8843</th>\n",
       "      <td>192.168.199.211</td>\n",
       "      <td>213.172.225.26</td>\n",
       "      <td>443</td>\n",
       "      <td>DNS</td>\n",
       "      <td>TCP</td>\n",
       "      <td>518</td>\n",
       "      <td>nmap/7.80</td>\n",
       "      <td>Success</td>\n",
       "      <td>0</td>\n",
       "      <td>Normal</td>\n",
       "    </tr>\n",
       "    <tr>\n",
       "      <th>8844</th>\n",
       "      <td>192.168.107.115</td>\n",
       "      <td>194.38.119.179</td>\n",
       "      <td>53</td>\n",
       "      <td>SSH</td>\n",
       "      <td>TCP</td>\n",
       "      <td>1149</td>\n",
       "      <td>Mozilla/5.0</td>\n",
       "      <td>Success</td>\n",
       "      <td>0</td>\n",
       "      <td>Normal</td>\n",
       "    </tr>\n",
       "    <tr>\n",
       "      <th>8845</th>\n",
       "      <td>201.232.85.16</td>\n",
       "      <td>168.101.218.238</td>\n",
       "      <td>31337</td>\n",
       "      <td>FTP</td>\n",
       "      <td>TCP</td>\n",
       "      <td>12</td>\n",
       "      <td>python-requests/2.25.1</td>\n",
       "      <td>Failure</td>\n",
       "      <td>1</td>\n",
       "      <td>PortScan</td>\n",
       "    </tr>\n",
       "  </tbody>\n",
       "</table>\n",
       "<p>8846 rows × 10 columns</p>\n",
       "</div>"
      ],
      "text/plain": [
       "            Source_IP   Destination_IP   Port Request_Type Protocol  \\\n",
       "0      192.168.142.55    42.156.67.167     80          FTP      UDP   \n",
       "1        53.39.165.18    94.60.242.119    135         SMTP      UDP   \n",
       "2      192.168.127.91       7.10.192.3     21         SMTP      TCP   \n",
       "3       192.168.30.40   130.169.82.211     25        HTTPS      TCP   \n",
       "4      192.168.43.179   35.140.102.220     22          FTP      TCP   \n",
       "...               ...              ...    ...          ...      ...   \n",
       "8841   192.168.62.111    217.201.54.87     22          DNS      UDP   \n",
       "8842   192.168.154.70    11.93.131.139     22       Telnet     ICMP   \n",
       "8843  192.168.199.211   213.172.225.26    443          DNS      TCP   \n",
       "8844  192.168.107.115   194.38.119.179     53          SSH      TCP   \n",
       "8845    201.232.85.16  168.101.218.238  31337          FTP      TCP   \n",
       "\n",
       "      Payload_Size              User_Agent   Status  Intrusion  Scan_Type  \n",
       "0             2369             curl/7.68.0  Success          0     Normal  \n",
       "1             1536             Wget/1.20.3  Failure          1  BotAttack  \n",
       "2             1183             Wget/1.20.3  Success          0     Normal  \n",
       "3              666             Mozilla/5.0  Success          0     Normal  \n",
       "4             2821             Mozilla/5.0  Success          0     Normal  \n",
       "...            ...                     ...      ...        ...        ...  \n",
       "8841           651  python-requests/2.25.1  Failure          0     Normal  \n",
       "8842           592             Nikto/2.1.6  Success          0     Normal  \n",
       "8843           518               nmap/7.80  Success          0     Normal  \n",
       "8844          1149             Mozilla/5.0  Success          0     Normal  \n",
       "8845            12  python-requests/2.25.1  Failure          1   PortScan  \n",
       "\n",
       "[8846 rows x 10 columns]"
      ]
     },
     "execution_count": 15,
     "metadata": {},
     "output_type": "execute_result"
    }
   ],
   "source": [
    "df"
   ]
  },
  {
   "cell_type": "markdown",
   "id": "4598ddd7",
   "metadata": {
    "papermill": {
     "duration": 0.017213,
     "end_time": "2025-07-21T10:46:30.622958",
     "exception": false,
     "start_time": "2025-07-21T10:46:30.605745",
     "status": "completed"
    },
    "tags": []
   },
   "source": [
    "Drop irrelevant or high-cardinality features"
   ]
  },
  {
   "cell_type": "code",
   "execution_count": 16,
   "id": "44cf0a1c",
   "metadata": {
    "execution": {
     "iopub.execute_input": "2025-07-21T10:46:30.660356Z",
     "iopub.status.busy": "2025-07-21T10:46:30.660028Z",
     "iopub.status.idle": "2025-07-21T10:46:30.666635Z",
     "shell.execute_reply": "2025-07-21T10:46:30.665550Z"
    },
    "papermill": {
     "duration": 0.027407,
     "end_time": "2025-07-21T10:46:30.668378",
     "exception": false,
     "start_time": "2025-07-21T10:46:30.640971",
     "status": "completed"
    },
    "tags": []
   },
   "outputs": [],
   "source": [
    "df.drop(['Source_IP', 'Destination_IP'], axis=1, inplace=True)\n"
   ]
  },
  {
   "cell_type": "markdown",
   "id": "7b9ba335",
   "metadata": {
    "papermill": {
     "duration": 0.016016,
     "end_time": "2025-07-21T10:46:30.701612",
     "exception": false,
     "start_time": "2025-07-21T10:46:30.685596",
     "status": "completed"
    },
    "tags": []
   },
   "source": [
    "Convert categorical_cols into int columns using LabelEncoder"
   ]
  },
  {
   "cell_type": "code",
   "execution_count": 17,
   "id": "72ff7535",
   "metadata": {
    "execution": {
     "iopub.execute_input": "2025-07-21T10:46:30.736120Z",
     "iopub.status.busy": "2025-07-21T10:46:30.735016Z",
     "iopub.status.idle": "2025-07-21T10:46:30.747633Z",
     "shell.execute_reply": "2025-07-21T10:46:30.746541Z"
    },
    "papermill": {
     "duration": 0.031859,
     "end_time": "2025-07-21T10:46:30.749323",
     "exception": false,
     "start_time": "2025-07-21T10:46:30.717464",
     "status": "completed"
    },
    "tags": []
   },
   "outputs": [],
   "source": [
    "categorical_cols = ['Request_Type', 'Protocol', 'User_Agent', 'Status', 'Port']\n",
    "for col in categorical_cols:\n",
    "    df[col] = df[col].astype('category')\n"
   ]
  },
  {
   "cell_type": "markdown",
   "id": "91c2621f",
   "metadata": {
    "papermill": {
     "duration": 0.015926,
     "end_time": "2025-07-21T10:46:30.781301",
     "exception": false,
     "start_time": "2025-07-21T10:46:30.765375",
     "status": "completed"
    },
    "tags": []
   },
   "source": [
    "Show encoded category values"
   ]
  },
  {
   "cell_type": "code",
   "execution_count": 18,
   "id": "ab697dc6",
   "metadata": {
    "execution": {
     "iopub.execute_input": "2025-07-21T10:46:30.815574Z",
     "iopub.status.busy": "2025-07-21T10:46:30.814605Z",
     "iopub.status.idle": "2025-07-21T10:46:30.821350Z",
     "shell.execute_reply": "2025-07-21T10:46:30.820015Z"
    },
    "papermill": {
     "duration": 0.026246,
     "end_time": "2025-07-21T10:46:30.823517",
     "exception": false,
     "start_time": "2025-07-21T10:46:30.797271",
     "status": "completed"
    },
    "tags": []
   },
   "outputs": [
    {
     "name": "stdout",
     "output_type": "stream",
     "text": [
      "Request_Type categories: ['DNS', 'FTP', 'HTTP', 'HTTPS', 'SMTP', 'SSH', 'Telnet']\n",
      "Protocol categories: ['ICMP', 'TCP', 'UDP']\n",
      "User_Agent categories: ['Mozilla/5.0', 'Nikto/2.1.6', 'Wget/1.20.3', 'curl/7.68.0', 'nmap/7.80', 'python-requests/2.25.1']\n",
      "Status categories: ['Failure', 'Success']\n",
      "Port categories: [21, 22, 23, 25, 53, 80, 135, 443, 4444, 6667, 8080, 31337]\n"
     ]
    }
   ],
   "source": [
    "for col in categorical_cols:\n",
    "    print(f\"{col} categories: {df[col].cat.categories.tolist()}\")"
   ]
  },
  {
   "cell_type": "code",
   "execution_count": 19,
   "id": "109e0745",
   "metadata": {
    "execution": {
     "iopub.execute_input": "2025-07-21T10:46:30.858025Z",
     "iopub.status.busy": "2025-07-21T10:46:30.857615Z",
     "iopub.status.idle": "2025-07-21T10:46:30.864175Z",
     "shell.execute_reply": "2025-07-21T10:46:30.863023Z"
    },
    "papermill": {
     "duration": 0.026073,
     "end_time": "2025-07-21T10:46:30.865836",
     "exception": false,
     "start_time": "2025-07-21T10:46:30.839763",
     "status": "completed"
    },
    "tags": []
   },
   "outputs": [],
   "source": [
    "for col in categorical_cols:\n",
    "    df[col] = df[col].cat.codes"
   ]
  },
  {
   "cell_type": "markdown",
   "id": "bf33c58a",
   "metadata": {
    "papermill": {
     "duration": 0.016189,
     "end_time": "2025-07-21T10:46:30.898523",
     "exception": false,
     "start_time": "2025-07-21T10:46:30.882334",
     "status": "completed"
    },
    "tags": []
   },
   "source": [
    "Encode target label"
   ]
  },
  {
   "cell_type": "code",
   "execution_count": 20,
   "id": "e40274df",
   "metadata": {
    "execution": {
     "iopub.execute_input": "2025-07-21T10:46:30.935148Z",
     "iopub.status.busy": "2025-07-21T10:46:30.934735Z",
     "iopub.status.idle": "2025-07-21T10:46:30.943810Z",
     "shell.execute_reply": "2025-07-21T10:46:30.942690Z"
    },
    "papermill": {
     "duration": 0.029689,
     "end_time": "2025-07-21T10:46:30.945617",
     "exception": false,
     "start_time": "2025-07-21T10:46:30.915928",
     "status": "completed"
    },
    "tags": []
   },
   "outputs": [],
   "source": [
    "target_encoder = LabelEncoder()\n",
    "df['Scan_Type_Label'] = target_encoder.fit_transform(df['Scan_Type'])"
   ]
  },
  {
   "cell_type": "code",
   "execution_count": 21,
   "id": "3631318b",
   "metadata": {
    "execution": {
     "iopub.execute_input": "2025-07-21T10:46:30.982027Z",
     "iopub.status.busy": "2025-07-21T10:46:30.981625Z",
     "iopub.status.idle": "2025-07-21T10:46:30.988513Z",
     "shell.execute_reply": "2025-07-21T10:46:30.987181Z"
    },
    "papermill": {
     "duration": 0.027812,
     "end_time": "2025-07-21T10:46:30.990163",
     "exception": false,
     "start_time": "2025-07-21T10:46:30.962351",
     "status": "completed"
    },
    "tags": []
   },
   "outputs": [
    {
     "name": "stdout",
     "output_type": "stream",
     "text": [
      "Label Mapping: {'BotAttack': np.int64(0), 'Normal': np.int64(1), 'PortScan': np.int64(2)}\n"
     ]
    }
   ],
   "source": [
    "label_mapping = dict(zip(target_encoder.classes_, target_encoder.transform(target_encoder.classes_)))\n",
    "print(\"Label Mapping:\", label_mapping)"
   ]
  },
  {
   "cell_type": "code",
   "execution_count": 22,
   "id": "65e24f28",
   "metadata": {
    "execution": {
     "iopub.execute_input": "2025-07-21T10:46:31.027535Z",
     "iopub.status.busy": "2025-07-21T10:46:31.027088Z",
     "iopub.status.idle": "2025-07-21T10:46:31.034682Z",
     "shell.execute_reply": "2025-07-21T10:46:31.033500Z"
    },
    "papermill": {
     "duration": 0.028598,
     "end_time": "2025-07-21T10:46:31.036513",
     "exception": false,
     "start_time": "2025-07-21T10:46:31.007915",
     "status": "completed"
    },
    "tags": []
   },
   "outputs": [],
   "source": [
    "df.drop(['Scan_Type'], axis=1, inplace=True)"
   ]
  },
  {
   "cell_type": "code",
   "execution_count": 23,
   "id": "c6bd3edb",
   "metadata": {
    "execution": {
     "iopub.execute_input": "2025-07-21T10:46:31.074468Z",
     "iopub.status.busy": "2025-07-21T10:46:31.074090Z",
     "iopub.status.idle": "2025-07-21T10:46:31.089680Z",
     "shell.execute_reply": "2025-07-21T10:46:31.088522Z"
    },
    "papermill": {
     "duration": 0.038339,
     "end_time": "2025-07-21T10:46:31.091625",
     "exception": false,
     "start_time": "2025-07-21T10:46:31.053286",
     "status": "completed"
    },
    "tags": []
   },
   "outputs": [
    {
     "data": {
      "application/vnd.microsoft.datawrangler.viewer.v0+json": {
       "columns": [
        {
         "name": "index",
         "rawType": "int64",
         "type": "integer"
        },
        {
         "name": "Port",
         "rawType": "int8",
         "type": "integer"
        },
        {
         "name": "Request_Type",
         "rawType": "int8",
         "type": "integer"
        },
        {
         "name": "Protocol",
         "rawType": "int8",
         "type": "integer"
        },
        {
         "name": "Payload_Size",
         "rawType": "int64",
         "type": "integer"
        },
        {
         "name": "User_Agent",
         "rawType": "int8",
         "type": "integer"
        },
        {
         "name": "Status",
         "rawType": "int8",
         "type": "integer"
        },
        {
         "name": "Intrusion",
         "rawType": "int64",
         "type": "integer"
        },
        {
         "name": "Scan_Type_Label",
         "rawType": "int64",
         "type": "integer"
        }
       ],
       "ref": "9e5f8285-87b9-48f2-ae2d-0e8c0f89686f",
       "rows": [
        [
         "0",
         "5",
         "1",
         "2",
         "2369",
         "3",
         "1",
         "0",
         "1"
        ],
        [
         "1",
         "6",
         "4",
         "2",
         "1536",
         "2",
         "0",
         "1",
         "0"
        ],
        [
         "2",
         "0",
         "4",
         "1",
         "1183",
         "2",
         "1",
         "0",
         "1"
        ],
        [
         "3",
         "3",
         "3",
         "1",
         "666",
         "0",
         "1",
         "0",
         "1"
        ],
        [
         "4",
         "1",
         "1",
         "1",
         "2821",
         "0",
         "1",
         "0",
         "1"
        ],
        [
         "5",
         "4",
         "3",
         "2",
         "2179",
         "0",
         "1",
         "0",
         "1"
        ],
        [
         "6",
         "3",
         "3",
         "1",
         "1699",
         "2",
         "1",
         "0",
         "1"
        ],
        [
         "7",
         "1",
         "0",
         "0",
         "2104",
         "1",
         "1",
         "0",
         "1"
        ],
        [
         "8",
         "7",
         "5",
         "2",
         "1522",
         "3",
         "1",
         "0",
         "1"
        ],
        [
         "9",
         "1",
         "3",
         "2",
         "333",
         "3",
         "1",
         "0",
         "1"
        ],
        [
         "10",
         "3",
         "5",
         "0",
         "2869",
         "3",
         "1",
         "0",
         "1"
        ],
        [
         "11",
         "5",
         "5",
         "2",
         "1078",
         "3",
         "1",
         "0",
         "1"
        ],
        [
         "12",
         "4",
         "2",
         "2",
         "1491",
         "4",
         "1",
         "0",
         "1"
        ],
        [
         "13",
         "5",
         "5",
         "1",
         "702",
         "4",
         "1",
         "0",
         "1"
        ],
        [
         "14",
         "7",
         "2",
         "0",
         "1757",
         "1",
         "1",
         "0",
         "1"
        ],
        [
         "15",
         "4",
         "5",
         "1",
         "2041",
         "3",
         "0",
         "0",
         "1"
        ],
        [
         "16",
         "0",
         "4",
         "0",
         "1151",
         "2",
         "1",
         "0",
         "1"
        ],
        [
         "17",
         "1",
         "6",
         "0",
         "2713",
         "3",
         "1",
         "0",
         "1"
        ],
        [
         "18",
         "6",
         "2",
         "2",
         "45",
         "2",
         "0",
         "1",
         "2"
        ],
        [
         "19",
         "4",
         "3",
         "0",
         "2602",
         "0",
         "1",
         "0",
         "1"
        ],
        [
         "20",
         "7",
         "5",
         "1",
         "1747",
         "4",
         "1",
         "0",
         "1"
        ],
        [
         "21",
         "6",
         "1",
         "0",
         "13",
         "5",
         "0",
         "1",
         "2"
        ],
        [
         "22",
         "4",
         "0",
         "2",
         "2983",
         "1",
         "1",
         "0",
         "1"
        ],
        [
         "23",
         "3",
         "1",
         "1",
         "1308",
         "2",
         "1",
         "0",
         "1"
        ],
        [
         "24",
         "3",
         "2",
         "0",
         "200",
         "5",
         "1",
         "0",
         "1"
        ],
        [
         "25",
         "7",
         "3",
         "2",
         "2904",
         "3",
         "1",
         "0",
         "1"
        ],
        [
         "26",
         "4",
         "2",
         "0",
         "1763",
         "4",
         "1",
         "0",
         "1"
        ],
        [
         "27",
         "1",
         "3",
         "0",
         "1940",
         "2",
         "1",
         "0",
         "1"
        ],
        [
         "28",
         "0",
         "5",
         "1",
         "1910",
         "3",
         "1",
         "0",
         "1"
        ],
        [
         "29",
         "5",
         "2",
         "1",
         "2311",
         "5",
         "1",
         "0",
         "1"
        ],
        [
         "30",
         "6",
         "1",
         "1",
         "1638",
         "1",
         "0",
         "1",
         "0"
        ],
        [
         "31",
         "4",
         "0",
         "2",
         "674",
         "4",
         "1",
         "0",
         "1"
        ],
        [
         "32",
         "0",
         "0",
         "2",
         "821",
         "2",
         "1",
         "0",
         "1"
        ],
        [
         "33",
         "0",
         "4",
         "1",
         "2208",
         "3",
         "1",
         "0",
         "1"
        ],
        [
         "34",
         "1",
         "1",
         "2",
         "2309",
         "3",
         "1",
         "0",
         "1"
        ],
        [
         "35",
         "0",
         "4",
         "1",
         "344",
         "0",
         "1",
         "0",
         "1"
        ],
        [
         "36",
         "4",
         "2",
         "1",
         "1027",
         "2",
         "1",
         "0",
         "1"
        ],
        [
         "37",
         "0",
         "3",
         "1",
         "2915",
         "4",
         "1",
         "0",
         "1"
        ],
        [
         "38",
         "8",
         "5",
         "1",
         "61",
         "4",
         "0",
         "1",
         "2"
        ],
        [
         "39",
         "1",
         "3",
         "1",
         "2550",
         "4",
         "1",
         "0",
         "1"
        ],
        [
         "40",
         "7",
         "1",
         "1",
         "1124",
         "0",
         "1",
         "0",
         "1"
        ],
        [
         "41",
         "4",
         "3",
         "2",
         "848",
         "2",
         "1",
         "0",
         "1"
        ],
        [
         "42",
         "3",
         "5",
         "2",
         "2538",
         "1",
         "1",
         "0",
         "1"
        ],
        [
         "43",
         "0",
         "1",
         "1",
         "1235",
         "3",
         "1",
         "0",
         "1"
        ],
        [
         "44",
         "6",
         "6",
         "0",
         "3649",
         "1",
         "0",
         "1",
         "0"
        ],
        [
         "45",
         "7",
         "6",
         "0",
         "1037",
         "1",
         "1",
         "0",
         "1"
        ],
        [
         "46",
         "5",
         "2",
         "1",
         "375",
         "3",
         "1",
         "0",
         "1"
        ],
        [
         "47",
         "4",
         "4",
         "1",
         "2413",
         "1",
         "1",
         "0",
         "1"
        ],
        [
         "48",
         "1",
         "5",
         "2",
         "1520",
         "3",
         "0",
         "0",
         "1"
        ],
        [
         "49",
         "0",
         "5",
         "0",
         "2674",
         "5",
         "1",
         "0",
         "1"
        ]
       ],
       "shape": {
        "columns": 8,
        "rows": 8846
       }
      },
      "text/html": [
       "<div>\n",
       "<style scoped>\n",
       "    .dataframe tbody tr th:only-of-type {\n",
       "        vertical-align: middle;\n",
       "    }\n",
       "\n",
       "    .dataframe tbody tr th {\n",
       "        vertical-align: top;\n",
       "    }\n",
       "\n",
       "    .dataframe thead th {\n",
       "        text-align: right;\n",
       "    }\n",
       "</style>\n",
       "<table border=\"1\" class=\"dataframe\">\n",
       "  <thead>\n",
       "    <tr style=\"text-align: right;\">\n",
       "      <th></th>\n",
       "      <th>Port</th>\n",
       "      <th>Request_Type</th>\n",
       "      <th>Protocol</th>\n",
       "      <th>Payload_Size</th>\n",
       "      <th>User_Agent</th>\n",
       "      <th>Status</th>\n",
       "      <th>Intrusion</th>\n",
       "      <th>Scan_Type_Label</th>\n",
       "    </tr>\n",
       "  </thead>\n",
       "  <tbody>\n",
       "    <tr>\n",
       "      <th>0</th>\n",
       "      <td>5</td>\n",
       "      <td>1</td>\n",
       "      <td>2</td>\n",
       "      <td>2369</td>\n",
       "      <td>3</td>\n",
       "      <td>1</td>\n",
       "      <td>0</td>\n",
       "      <td>1</td>\n",
       "    </tr>\n",
       "    <tr>\n",
       "      <th>1</th>\n",
       "      <td>6</td>\n",
       "      <td>4</td>\n",
       "      <td>2</td>\n",
       "      <td>1536</td>\n",
       "      <td>2</td>\n",
       "      <td>0</td>\n",
       "      <td>1</td>\n",
       "      <td>0</td>\n",
       "    </tr>\n",
       "    <tr>\n",
       "      <th>2</th>\n",
       "      <td>0</td>\n",
       "      <td>4</td>\n",
       "      <td>1</td>\n",
       "      <td>1183</td>\n",
       "      <td>2</td>\n",
       "      <td>1</td>\n",
       "      <td>0</td>\n",
       "      <td>1</td>\n",
       "    </tr>\n",
       "    <tr>\n",
       "      <th>3</th>\n",
       "      <td>3</td>\n",
       "      <td>3</td>\n",
       "      <td>1</td>\n",
       "      <td>666</td>\n",
       "      <td>0</td>\n",
       "      <td>1</td>\n",
       "      <td>0</td>\n",
       "      <td>1</td>\n",
       "    </tr>\n",
       "    <tr>\n",
       "      <th>4</th>\n",
       "      <td>1</td>\n",
       "      <td>1</td>\n",
       "      <td>1</td>\n",
       "      <td>2821</td>\n",
       "      <td>0</td>\n",
       "      <td>1</td>\n",
       "      <td>0</td>\n",
       "      <td>1</td>\n",
       "    </tr>\n",
       "    <tr>\n",
       "      <th>...</th>\n",
       "      <td>...</td>\n",
       "      <td>...</td>\n",
       "      <td>...</td>\n",
       "      <td>...</td>\n",
       "      <td>...</td>\n",
       "      <td>...</td>\n",
       "      <td>...</td>\n",
       "      <td>...</td>\n",
       "    </tr>\n",
       "    <tr>\n",
       "      <th>8841</th>\n",
       "      <td>1</td>\n",
       "      <td>0</td>\n",
       "      <td>2</td>\n",
       "      <td>651</td>\n",
       "      <td>5</td>\n",
       "      <td>0</td>\n",
       "      <td>0</td>\n",
       "      <td>1</td>\n",
       "    </tr>\n",
       "    <tr>\n",
       "      <th>8842</th>\n",
       "      <td>1</td>\n",
       "      <td>6</td>\n",
       "      <td>0</td>\n",
       "      <td>592</td>\n",
       "      <td>1</td>\n",
       "      <td>1</td>\n",
       "      <td>0</td>\n",
       "      <td>1</td>\n",
       "    </tr>\n",
       "    <tr>\n",
       "      <th>8843</th>\n",
       "      <td>7</td>\n",
       "      <td>0</td>\n",
       "      <td>1</td>\n",
       "      <td>518</td>\n",
       "      <td>4</td>\n",
       "      <td>1</td>\n",
       "      <td>0</td>\n",
       "      <td>1</td>\n",
       "    </tr>\n",
       "    <tr>\n",
       "      <th>8844</th>\n",
       "      <td>4</td>\n",
       "      <td>5</td>\n",
       "      <td>1</td>\n",
       "      <td>1149</td>\n",
       "      <td>0</td>\n",
       "      <td>1</td>\n",
       "      <td>0</td>\n",
       "      <td>1</td>\n",
       "    </tr>\n",
       "    <tr>\n",
       "      <th>8845</th>\n",
       "      <td>11</td>\n",
       "      <td>1</td>\n",
       "      <td>1</td>\n",
       "      <td>12</td>\n",
       "      <td>5</td>\n",
       "      <td>0</td>\n",
       "      <td>1</td>\n",
       "      <td>2</td>\n",
       "    </tr>\n",
       "  </tbody>\n",
       "</table>\n",
       "<p>8846 rows × 8 columns</p>\n",
       "</div>"
      ],
      "text/plain": [
       "      Port  Request_Type  Protocol  Payload_Size  User_Agent  Status  \\\n",
       "0        5             1         2          2369           3       1   \n",
       "1        6             4         2          1536           2       0   \n",
       "2        0             4         1          1183           2       1   \n",
       "3        3             3         1           666           0       1   \n",
       "4        1             1         1          2821           0       1   \n",
       "...    ...           ...       ...           ...         ...     ...   \n",
       "8841     1             0         2           651           5       0   \n",
       "8842     1             6         0           592           1       1   \n",
       "8843     7             0         1           518           4       1   \n",
       "8844     4             5         1          1149           0       1   \n",
       "8845    11             1         1            12           5       0   \n",
       "\n",
       "      Intrusion  Scan_Type_Label  \n",
       "0             0                1  \n",
       "1             1                0  \n",
       "2             0                1  \n",
       "3             0                1  \n",
       "4             0                1  \n",
       "...         ...              ...  \n",
       "8841          0                1  \n",
       "8842          0                1  \n",
       "8843          0                1  \n",
       "8844          0                1  \n",
       "8845          1                2  \n",
       "\n",
       "[8846 rows x 8 columns]"
      ]
     },
     "execution_count": 23,
     "metadata": {},
     "output_type": "execute_result"
    }
   ],
   "source": [
    "df"
   ]
  },
  {
   "cell_type": "markdown",
   "id": "b679beae",
   "metadata": {
    "papermill": {
     "duration": 0.017448,
     "end_time": "2025-07-21T10:46:31.127800",
     "exception": false,
     "start_time": "2025-07-21T10:46:31.110352",
     "status": "completed"
    },
    "tags": []
   },
   "source": [
    "Scale the payload size feautre"
   ]
  },
  {
   "cell_type": "code",
   "execution_count": 52,
   "id": "53d7a4a0",
   "metadata": {
    "execution": {
     "iopub.execute_input": "2025-07-21T10:46:31.164627Z",
     "iopub.status.busy": "2025-07-21T10:46:31.164162Z",
     "iopub.status.idle": "2025-07-21T10:46:31.175858Z",
     "shell.execute_reply": "2025-07-21T10:46:31.174673Z"
    },
    "papermill": {
     "duration": 0.032657,
     "end_time": "2025-07-21T10:46:31.177863",
     "exception": false,
     "start_time": "2025-07-21T10:46:31.145206",
     "status": "completed"
    },
    "tags": []
   },
   "outputs": [],
   "source": [
    "scaler = StandardScaler()\n",
    "df['Payload_Size'] = scaler.fit_transform(df[['Payload_Size']])"
   ]
  },
  {
   "cell_type": "code",
   "execution_count": 25,
   "id": "35dee998",
   "metadata": {
    "execution": {
     "iopub.execute_input": "2025-07-21T10:46:31.214452Z",
     "iopub.status.busy": "2025-07-21T10:46:31.213991Z",
     "iopub.status.idle": "2025-07-21T10:46:31.229387Z",
     "shell.execute_reply": "2025-07-21T10:46:31.228354Z"
    },
    "papermill": {
     "duration": 0.036103,
     "end_time": "2025-07-21T10:46:31.231081",
     "exception": false,
     "start_time": "2025-07-21T10:46:31.194978",
     "status": "completed"
    },
    "tags": []
   },
   "outputs": [
    {
     "data": {
      "application/vnd.microsoft.datawrangler.viewer.v0+json": {
       "columns": [
        {
         "name": "index",
         "rawType": "int64",
         "type": "integer"
        },
        {
         "name": "Port",
         "rawType": "int8",
         "type": "integer"
        },
        {
         "name": "Request_Type",
         "rawType": "int8",
         "type": "integer"
        },
        {
         "name": "Protocol",
         "rawType": "int8",
         "type": "integer"
        },
        {
         "name": "Payload_Size",
         "rawType": "float64",
         "type": "float"
        },
        {
         "name": "User_Agent",
         "rawType": "int8",
         "type": "integer"
        },
        {
         "name": "Status",
         "rawType": "int8",
         "type": "integer"
        },
        {
         "name": "Intrusion",
         "rawType": "int64",
         "type": "integer"
        },
        {
         "name": "Scan_Type_Label",
         "rawType": "int64",
         "type": "integer"
        }
       ],
       "ref": "7e9840da-2205-45ca-bfa8-f197eaacd858",
       "rows": [
        [
         "0",
         "5",
         "1",
         "2",
         "0.841271374965767",
         "3",
         "1",
         "0",
         "1"
        ],
        [
         "1",
         "6",
         "4",
         "2",
         "-0.06855105796755713",
         "2",
         "0",
         "1",
         "0"
        ],
        [
         "2",
         "0",
         "4",
         "1",
         "-0.45410606255995023",
         "2",
         "1",
         "0",
         "1"
        ],
        [
         "3",
         "3",
         "3",
         "1",
         "-1.0187857718354947",
         "0",
         "1",
         "0",
         "1"
        ],
        [
         "4",
         "1",
         "1",
         "1",
         "1.3349565366534772",
         "0",
         "1",
         "0",
         "1"
        ],
        [
         "5",
         "4",
         "3",
         "2",
         "0.6337488512474818",
         "0",
         "1",
         "0",
         "1"
        ],
        [
         "6",
         "3",
         "3",
         "1",
         "0.10948142290655072",
         "2",
         "1",
         "0",
         "1"
        ],
        [
         "7",
         "1",
         "0",
         "0",
         "0.5518320655692113",
         "1",
         "1",
         "0",
         "1"
        ],
        [
         "8",
         "7",
         "5",
         "2",
         "-0.08384219129416762",
         "3",
         "1",
         "0",
         "1"
        ],
        [
         "9",
         "1",
         "3",
         "2",
         "-1.3824963002470156",
         "3",
         "1",
         "0",
         "1"
        ],
        [
         "10",
         "3",
         "5",
         "0",
         "1.3873832794875702",
         "3",
         "1",
         "0",
         "1"
        ],
        [
         "11",
         "5",
         "5",
         "2",
         "-0.5687895625095288",
         "3",
         "1",
         "0",
         "1"
        ],
        [
         "12",
         "4",
         "2",
         "2",
         "-0.11770112937451942",
         "4",
         "1",
         "0",
         "1"
        ],
        [
         "13",
         "5",
         "5",
         "1",
         "-0.9794657147099249",
         "4",
         "1",
         "0",
         "1"
        ],
        [
         "14",
         "7",
         "2",
         "0",
         "0.1728304038310799",
         "1",
         "1",
         "0",
         "1"
        ],
        [
         "15",
         "4",
         "5",
         "1",
         "0.48302196559946414",
         "3",
         "0",
         "0",
         "1"
        ],
        [
         "16",
         "0",
         "4",
         "0",
         "-0.48905722444934563",
         "2",
         "1",
         "0",
         "1"
        ],
        [
         "17",
         "1",
         "6",
         "0",
         "1.2169963652767677",
         "3",
         "1",
         "0",
         "1"
        ],
        [
         "18",
         "6",
         "2",
         "2",
         "-1.6970567572515742",
         "2",
         "0",
         "1",
         "2"
        ],
        [
         "19",
         "4",
         "3",
         "0",
         "1.0957595224729273",
         "0",
         "1",
         "0",
         "1"
        ],
        [
         "20",
         "7",
         "5",
         "1",
         "0.16190816574064382",
         "4",
         "1",
         "0",
         "1"
        ],
        [
         "21",
         "6",
         "1",
         "0",
         "-1.7320079191409696",
         "5",
         "0",
         "1",
         "2"
        ],
        [
         "22",
         "4",
         "0",
         "2",
         "1.5118967937185415",
         "1",
         "1",
         "0",
         "1"
        ],
        [
         "23",
         "3",
         "1",
         "1",
         "-0.3175780864294994",
         "2",
         "1",
         "0",
         "1"
        ],
        [
         "24",
         "3",
         "2",
         "0",
         "-1.5277620668498153",
         "5",
         "1",
         "0",
         "1"
        ],
        [
         "25",
         "7",
         "3",
         "2",
         "1.4256111128040965",
         "3",
         "1",
         "0",
         "1"
        ],
        [
         "26",
         "4",
         "2",
         "0",
         "0.17938374668534152",
         "4",
         "1",
         "0",
         "1"
        ],
        [
         "27",
         "1",
         "3",
         "0",
         "0.3727073608860599",
         "2",
         "1",
         "0",
         "1"
        ],
        [
         "28",
         "0",
         "5",
         "1",
         "0.33994064661475165",
         "3",
         "1",
         "0",
         "1"
        ],
        [
         "29",
         "5",
         "2",
         "1",
         "0.7779223940412379",
         "5",
         "1",
         "0",
         "1"
        ],
        [
         "30",
         "6",
         "1",
         "1",
         "0.042855770554890725",
         "1",
         "0",
         "1",
         "0"
        ],
        [
         "31",
         "4",
         "0",
         "2",
         "-1.0100479813631458",
         "4",
         "1",
         "0",
         "1"
        ],
        [
         "32",
         "0",
         "0",
         "2",
         "-0.8494910814337358",
         "2",
         "1",
         "0",
         "1"
        ],
        [
         "33",
         "0",
         "4",
         "1",
         "0.6654233417097464",
         "3",
         "1",
         "0",
         "1"
        ],
        [
         "34",
         "1",
         "1",
         "2",
         "0.7757379464231506",
         "3",
         "1",
         "0",
         "1"
        ],
        [
         "35",
         "0",
         "4",
         "1",
         "-1.370481838347536",
         "0",
         "1",
         "0",
         "1"
        ],
        [
         "36",
         "4",
         "2",
         "1",
         "-0.6244929767707528",
         "2",
         "1",
         "0",
         "1"
        ],
        [
         "37",
         "0",
         "3",
         "1",
         "1.4376255747035762",
         "4",
         "1",
         "0",
         "1"
        ],
        [
         "38",
         "8",
         "5",
         "1",
         "-1.6795811763068766",
         "4",
         "0",
         "1",
         "2"
        ],
        [
         "39",
         "1",
         "3",
         "1",
         "1.0389638844026599",
         "4",
         "1",
         "0",
         "1"
        ],
        [
         "40",
         "7",
         "1",
         "1",
         "-0.518547267293523",
         "0",
         "1",
         "0",
         "1"
        ],
        [
         "41",
         "4",
         "3",
         "2",
         "-0.8200010385895583",
         "2",
         "1",
         "0",
         "1"
        ],
        [
         "42",
         "3",
         "5",
         "2",
         "1.0258571986941365",
         "1",
         "1",
         "0",
         "1"
        ],
        [
         "43",
         "0",
         "1",
         "1",
         "-0.3973104244896827",
         "3",
         "1",
         "0",
         "1"
        ],
        [
         "44",
         "6",
         "6",
         "0",
         "2.239317850541583",
         "1",
         "0",
         "1",
         "0"
        ],
        [
         "45",
         "7",
         "6",
         "0",
         "-0.6135707386803168",
         "1",
         "1",
         "0",
         "1"
        ],
        [
         "46",
         "5",
         "2",
         "1",
         "-1.336622900267184",
         "3",
         "1",
         "0",
         "1"
        ],
        [
         "47",
         "4",
         "4",
         "1",
         "0.8893292225636857",
         "1",
         "1",
         "0",
         "1"
        ],
        [
         "48",
         "1",
         "5",
         "2",
         "-0.08602663891225483",
         "3",
         "0",
         "0",
         "1"
        ],
        [
         "49",
         "0",
         "5",
         "0",
         "1.174399636724067",
         "5",
         "1",
         "0",
         "1"
        ]
       ],
       "shape": {
        "columns": 8,
        "rows": 8846
       }
      },
      "text/html": [
       "<div>\n",
       "<style scoped>\n",
       "    .dataframe tbody tr th:only-of-type {\n",
       "        vertical-align: middle;\n",
       "    }\n",
       "\n",
       "    .dataframe tbody tr th {\n",
       "        vertical-align: top;\n",
       "    }\n",
       "\n",
       "    .dataframe thead th {\n",
       "        text-align: right;\n",
       "    }\n",
       "</style>\n",
       "<table border=\"1\" class=\"dataframe\">\n",
       "  <thead>\n",
       "    <tr style=\"text-align: right;\">\n",
       "      <th></th>\n",
       "      <th>Port</th>\n",
       "      <th>Request_Type</th>\n",
       "      <th>Protocol</th>\n",
       "      <th>Payload_Size</th>\n",
       "      <th>User_Agent</th>\n",
       "      <th>Status</th>\n",
       "      <th>Intrusion</th>\n",
       "      <th>Scan_Type_Label</th>\n",
       "    </tr>\n",
       "  </thead>\n",
       "  <tbody>\n",
       "    <tr>\n",
       "      <th>0</th>\n",
       "      <td>5</td>\n",
       "      <td>1</td>\n",
       "      <td>2</td>\n",
       "      <td>0.841271</td>\n",
       "      <td>3</td>\n",
       "      <td>1</td>\n",
       "      <td>0</td>\n",
       "      <td>1</td>\n",
       "    </tr>\n",
       "    <tr>\n",
       "      <th>1</th>\n",
       "      <td>6</td>\n",
       "      <td>4</td>\n",
       "      <td>2</td>\n",
       "      <td>-0.068551</td>\n",
       "      <td>2</td>\n",
       "      <td>0</td>\n",
       "      <td>1</td>\n",
       "      <td>0</td>\n",
       "    </tr>\n",
       "    <tr>\n",
       "      <th>2</th>\n",
       "      <td>0</td>\n",
       "      <td>4</td>\n",
       "      <td>1</td>\n",
       "      <td>-0.454106</td>\n",
       "      <td>2</td>\n",
       "      <td>1</td>\n",
       "      <td>0</td>\n",
       "      <td>1</td>\n",
       "    </tr>\n",
       "    <tr>\n",
       "      <th>3</th>\n",
       "      <td>3</td>\n",
       "      <td>3</td>\n",
       "      <td>1</td>\n",
       "      <td>-1.018786</td>\n",
       "      <td>0</td>\n",
       "      <td>1</td>\n",
       "      <td>0</td>\n",
       "      <td>1</td>\n",
       "    </tr>\n",
       "    <tr>\n",
       "      <th>4</th>\n",
       "      <td>1</td>\n",
       "      <td>1</td>\n",
       "      <td>1</td>\n",
       "      <td>1.334957</td>\n",
       "      <td>0</td>\n",
       "      <td>1</td>\n",
       "      <td>0</td>\n",
       "      <td>1</td>\n",
       "    </tr>\n",
       "    <tr>\n",
       "      <th>...</th>\n",
       "      <td>...</td>\n",
       "      <td>...</td>\n",
       "      <td>...</td>\n",
       "      <td>...</td>\n",
       "      <td>...</td>\n",
       "      <td>...</td>\n",
       "      <td>...</td>\n",
       "      <td>...</td>\n",
       "    </tr>\n",
       "    <tr>\n",
       "      <th>8841</th>\n",
       "      <td>1</td>\n",
       "      <td>0</td>\n",
       "      <td>2</td>\n",
       "      <td>-1.035169</td>\n",
       "      <td>5</td>\n",
       "      <td>0</td>\n",
       "      <td>0</td>\n",
       "      <td>1</td>\n",
       "    </tr>\n",
       "    <tr>\n",
       "      <th>8842</th>\n",
       "      <td>1</td>\n",
       "      <td>6</td>\n",
       "      <td>0</td>\n",
       "      <td>-1.099610</td>\n",
       "      <td>1</td>\n",
       "      <td>1</td>\n",
       "      <td>0</td>\n",
       "      <td>1</td>\n",
       "    </tr>\n",
       "    <tr>\n",
       "      <th>8843</th>\n",
       "      <td>7</td>\n",
       "      <td>0</td>\n",
       "      <td>1</td>\n",
       "      <td>-1.180435</td>\n",
       "      <td>4</td>\n",
       "      <td>1</td>\n",
       "      <td>0</td>\n",
       "      <td>1</td>\n",
       "    </tr>\n",
       "    <tr>\n",
       "      <th>8844</th>\n",
       "      <td>4</td>\n",
       "      <td>5</td>\n",
       "      <td>1</td>\n",
       "      <td>-0.491242</td>\n",
       "      <td>0</td>\n",
       "      <td>1</td>\n",
       "      <td>0</td>\n",
       "      <td>1</td>\n",
       "    </tr>\n",
       "    <tr>\n",
       "      <th>8845</th>\n",
       "      <td>11</td>\n",
       "      <td>1</td>\n",
       "      <td>1</td>\n",
       "      <td>-1.733100</td>\n",
       "      <td>5</td>\n",
       "      <td>0</td>\n",
       "      <td>1</td>\n",
       "      <td>2</td>\n",
       "    </tr>\n",
       "  </tbody>\n",
       "</table>\n",
       "<p>8846 rows × 8 columns</p>\n",
       "</div>"
      ],
      "text/plain": [
       "      Port  Request_Type  Protocol  Payload_Size  User_Agent  Status  \\\n",
       "0        5             1         2      0.841271           3       1   \n",
       "1        6             4         2     -0.068551           2       0   \n",
       "2        0             4         1     -0.454106           2       1   \n",
       "3        3             3         1     -1.018786           0       1   \n",
       "4        1             1         1      1.334957           0       1   \n",
       "...    ...           ...       ...           ...         ...     ...   \n",
       "8841     1             0         2     -1.035169           5       0   \n",
       "8842     1             6         0     -1.099610           1       1   \n",
       "8843     7             0         1     -1.180435           4       1   \n",
       "8844     4             5         1     -0.491242           0       1   \n",
       "8845    11             1         1     -1.733100           5       0   \n",
       "\n",
       "      Intrusion  Scan_Type_Label  \n",
       "0             0                1  \n",
       "1             1                0  \n",
       "2             0                1  \n",
       "3             0                1  \n",
       "4             0                1  \n",
       "...         ...              ...  \n",
       "8841          0                1  \n",
       "8842          0                1  \n",
       "8843          0                1  \n",
       "8844          0                1  \n",
       "8845          1                2  \n",
       "\n",
       "[8846 rows x 8 columns]"
      ]
     },
     "execution_count": 25,
     "metadata": {},
     "output_type": "execute_result"
    }
   ],
   "source": [
    "df"
   ]
  },
  {
   "cell_type": "markdown",
   "id": "e756f35e",
   "metadata": {
    "papermill": {
     "duration": 0.018098,
     "end_time": "2025-07-21T10:46:31.267301",
     "exception": false,
     "start_time": "2025-07-21T10:46:31.249203",
     "status": "completed"
    },
    "tags": []
   },
   "source": [
    "I previously tested the model and found that the Intrusion feature had a very high SHAP value. The model also achieved 100% accuracy, which may indicate overfitting. To encourage better generalization, we could consider dropping this feature."
   ]
  },
  {
   "cell_type": "code",
   "execution_count": 26,
   "id": "706dfc53",
   "metadata": {
    "execution": {
     "iopub.execute_input": "2025-07-21T10:46:31.306619Z",
     "iopub.status.busy": "2025-07-21T10:46:31.305367Z",
     "iopub.status.idle": "2025-07-21T10:46:31.313950Z",
     "shell.execute_reply": "2025-07-21T10:46:31.312439Z"
    },
    "papermill": {
     "duration": 0.030839,
     "end_time": "2025-07-21T10:46:31.316048",
     "exception": false,
     "start_time": "2025-07-21T10:46:31.285209",
     "status": "completed"
    },
    "tags": []
   },
   "outputs": [],
   "source": [
    "X = df.drop(['Scan_Type_Label', 'Intrusion'], axis=1)\n",
    "y = df['Scan_Type_Label']\n"
   ]
  },
  {
   "cell_type": "markdown",
   "id": "9453c260",
   "metadata": {
    "papermill": {
     "duration": 0.017029,
     "end_time": "2025-07-21T10:46:31.351301",
     "exception": false,
     "start_time": "2025-07-21T10:46:31.334272",
     "status": "completed"
    },
    "tags": []
   },
   "source": [
    "Split the data"
   ]
  },
  {
   "cell_type": "code",
   "execution_count": 27,
   "id": "d9814684",
   "metadata": {
    "execution": {
     "iopub.execute_input": "2025-07-21T10:46:31.387819Z",
     "iopub.status.busy": "2025-07-21T10:46:31.387058Z",
     "iopub.status.idle": "2025-07-21T10:46:31.400246Z",
     "shell.execute_reply": "2025-07-21T10:46:31.399038Z"
    },
    "papermill": {
     "duration": 0.033945,
     "end_time": "2025-07-21T10:46:31.402275",
     "exception": false,
     "start_time": "2025-07-21T10:46:31.368330",
     "status": "completed"
    },
    "tags": []
   },
   "outputs": [],
   "source": [
    "X_train, X_test, y_train, y_test = train_test_split(\n",
    "    X, y, test_size=0.3, random_state=42, stratify=y\n",
    ")"
   ]
  },
  {
   "cell_type": "code",
   "execution_count": 28,
   "id": "a6252340",
   "metadata": {
    "execution": {
     "iopub.execute_input": "2025-07-21T10:46:31.438604Z",
     "iopub.status.busy": "2025-07-21T10:46:31.438018Z",
     "iopub.status.idle": "2025-07-21T10:46:31.444322Z",
     "shell.execute_reply": "2025-07-21T10:46:31.442919Z"
    },
    "papermill": {
     "duration": 0.026994,
     "end_time": "2025-07-21T10:46:31.446733",
     "exception": false,
     "start_time": "2025-07-21T10:46:31.419739",
     "status": "completed"
    },
    "tags": []
   },
   "outputs": [
    {
     "name": "stdout",
     "output_type": "stream",
     "text": [
      "Train shape: (6192, 6)\n",
      "Test shape: (2654, 6)\n"
     ]
    }
   ],
   "source": [
    "print(\"Train shape:\", X_train.shape)\n",
    "print(\"Test shape:\", X_test.shape)"
   ]
  },
  {
   "cell_type": "code",
   "execution_count": 53,
   "id": "102a1080",
   "metadata": {},
   "outputs": [
    {
     "name": "stdout",
     "output_type": "stream",
     "text": [
      "      Port  Request_Type  Protocol  Payload_Size  User_Agent  Status\n",
      "6201     0             0         2     -0.061998           1       1\n",
      "386      5             1         2     -1.406525           4       1\n",
      "6763     0             5         2     -0.021585           3       1\n",
      "8272     3             6         0      0.632657           4       1\n",
      "7671     3             3         0      0.643579           5       1\n",
      "...    ...           ...       ...           ...         ...     ...\n",
      "5055     7             2         0     -0.011755           2       1\n",
      "3558     7             4         2      0.546371           3       1\n",
      "153      4             3         0      0.451347           3       1\n",
      "5494     2             6         0     -1.615140           0       0\n",
      "3467     0             6         0      0.177199           1       1\n",
      "\n",
      "[6192 rows x 6 columns]\n"
     ]
    }
   ],
   "source": [
    "print(X_train)"
   ]
  },
  {
   "cell_type": "markdown",
   "id": "7136bc2f",
   "metadata": {
    "papermill": {
     "duration": 0.017695,
     "end_time": "2025-07-21T10:46:31.483506",
     "exception": false,
     "start_time": "2025-07-21T10:46:31.465811",
     "status": "completed"
    },
    "tags": []
   },
   "source": [
    "## Model Selection"
   ]
  },
  {
   "cell_type": "code",
   "execution_count": 54,
   "id": "2f818469",
   "metadata": {
    "execution": {
     "iopub.execute_input": "2025-07-21T10:46:31.519198Z",
     "iopub.status.busy": "2025-07-21T10:46:31.518811Z",
     "iopub.status.idle": "2025-07-21T10:46:31.524801Z",
     "shell.execute_reply": "2025-07-21T10:46:31.523776Z"
    },
    "papermill": {
     "duration": 0.026278,
     "end_time": "2025-07-21T10:46:31.526567",
     "exception": false,
     "start_time": "2025-07-21T10:46:31.500289",
     "status": "completed"
    },
    "tags": []
   },
   "outputs": [],
   "source": [
    "models = {\n",
    "    'Logistic Regression': LogisticRegression(max_iter=1000),\n",
    "    'KNN': KNeighborsClassifier(),\n",
    "    'Decision Tree': DecisionTreeClassifier(),\n",
    "    'Random Forest': RandomForestClassifier(),\n",
    "    'XGBoost': xgb.XGBClassifier(use_label_encoder=False, eval_metric='mlogloss'),\n",
    "    'MLP': MLPClassifier(max_iter=500)\n",
    "}\n"
   ]
  },
  {
   "cell_type": "markdown",
   "id": "cb17e9ef",
   "metadata": {
    "papermill": {
     "duration": 0.017239,
     "end_time": "2025-07-21T10:46:31.560555",
     "exception": false,
     "start_time": "2025-07-21T10:46:31.543316",
     "status": "completed"
    },
    "tags": []
   },
   "source": [
    "Test all the models and show SHAP graph for each model"
   ]
  },
  {
   "cell_type": "code",
   "execution_count": 55,
   "id": "316abb23",
   "metadata": {
    "execution": {
     "iopub.execute_input": "2025-07-21T10:46:31.596262Z",
     "iopub.status.busy": "2025-07-21T10:46:31.595886Z",
     "iopub.status.idle": "2025-07-21T10:46:31.604915Z",
     "shell.execute_reply": "2025-07-21T10:46:31.603607Z"
    },
    "papermill": {
     "duration": 0.029005,
     "end_time": "2025-07-21T10:46:31.606767",
     "exception": false,
     "start_time": "2025-07-21T10:46:31.577762",
     "status": "completed"
    },
    "tags": []
   },
   "outputs": [],
   "source": [
    "sample_idx = np.random.choice(X_test.index, size=min(200, len(X_test)), replace=False)\n",
    "X_sample = X_test.loc[sample_idx]"
   ]
  },
  {
   "cell_type": "code",
   "execution_count": 56,
   "id": "11e7b6e7",
   "metadata": {
    "execution": {
     "iopub.execute_input": "2025-07-21T10:46:31.642182Z",
     "iopub.status.busy": "2025-07-21T10:46:31.641772Z",
     "iopub.status.idle": "2025-07-21T10:47:22.755163Z",
     "shell.execute_reply": "2025-07-21T10:47:22.753758Z"
    },
    "papermill": {
     "duration": 51.133473,
     "end_time": "2025-07-21T10:47:22.757080",
     "exception": false,
     "start_time": "2025-07-21T10:46:31.623607",
     "status": "completed"
    },
    "tags": []
   },
   "outputs": [
    {
     "name": "stdout",
     "output_type": "stream",
     "text": [
      "\n",
      "🔍 Training Logistic Regression...\n",
      "✅ Accuracy: 0.9748\n",
      "              precision    recall  f1-score   support\n",
      "\n",
      "           0       0.89      0.70      0.78       144\n",
      "           1       0.98      0.99      0.99      2400\n",
      "           2       0.90      1.00      0.95       110\n",
      "\n",
      "    accuracy                           0.97      2654\n",
      "   macro avg       0.92      0.90      0.91      2654\n",
      "weighted avg       0.97      0.97      0.97      2654\n",
      "\n",
      "📊 SHAP Explanation for Logistic Regression\n"
     ]
    },
    {
     "name": "stderr",
     "output_type": "stream",
     "text": [
      "100%|██████████| 200/200 [00:00<00:00, 213.57it/s]\n"
     ]
    },
    {
     "data": {
      "image/png": "[encoded data removed]",
      "text/plain": [
       "<Figure size 800x390 with 1 Axes>"
      ]
     },
     "metadata": {},
     "output_type": "display_data"
    },
    {
     "name": "stdout",
     "output_type": "stream",
     "text": [
      "\n",
      "🔍 Training KNN...\n",
      "✅ Accuracy: 0.9744\n",
      "              precision    recall  f1-score   support\n",
      "\n",
      "           0       0.98      0.58      0.73       144\n",
      "           1       0.98      1.00      0.99      2400\n",
      "           2       0.90      0.94      0.92       110\n",
      "\n",
      "    accuracy                           0.97      2654\n",
      "   macro avg       0.95      0.84      0.88      2654\n",
      "weighted avg       0.97      0.97      0.97      2654\n",
      "\n",
      "📊 SHAP Explanation for KNN\n"
     ]
    },
    {
     "name": "stderr",
     "output_type": "stream",
     "text": [
      "100%|██████████| 200/200 [00:09<00:00, 21.78it/s]\n"
     ]
    },
    {
     "data": {
      "image/png": "[encoded data removed]",
      "text/plain": [
       "<Figure size 800x390 with 1 Axes>"
      ]
     },
     "metadata": {},
     "output_type": "display_data"
    },
    {
     "name": "stdout",
     "output_type": "stream",
     "text": [
      "\n",
      "🔍 Training Decision Tree...\n",
      "✅ Accuracy: 0.9992\n",
      "              precision    recall  f1-score   support\n",
      "\n",
      "           0       1.00      0.99      0.99       144\n",
      "           1       1.00      1.00      1.00      2400\n",
      "           2       1.00      1.00      1.00       110\n",
      "\n",
      "    accuracy                           1.00      2654\n",
      "   macro avg       1.00      1.00      1.00      2654\n",
      "weighted avg       1.00      1.00      1.00      2654\n",
      "\n",
      "📊 SHAP Explanation for Decision Tree\n"
     ]
    },
    {
     "data": {
      "image/png": "[encoded data removed]",
      "text/plain": [
       "<Figure size 800x390 with 1 Axes>"
      ]
     },
     "metadata": {},
     "output_type": "display_data"
    },
    {
     "name": "stdout",
     "output_type": "stream",
     "text": [
      "\n",
      "🔍 Training Random Forest...\n",
      "✅ Accuracy: 0.9989\n",
      "              precision    recall  f1-score   support\n",
      "\n",
      "           0       1.00      0.99      0.99       144\n",
      "           1       1.00      1.00      1.00      2400\n",
      "           2       0.99      1.00      1.00       110\n",
      "\n",
      "    accuracy                           1.00      2654\n",
      "   macro avg       1.00      1.00      1.00      2654\n",
      "weighted avg       1.00      1.00      1.00      2654\n",
      "\n",
      "📊 SHAP Explanation for Random Forest\n"
     ]
    },
    {
     "data": {
      "image/png": "[encoded data removed]",
      "text/plain": [
       "<Figure size 800x390 with 1 Axes>"
      ]
     },
     "metadata": {},
     "output_type": "display_data"
    },
    {
     "name": "stdout",
     "output_type": "stream",
     "text": [
      "\n",
      "🔍 Training XGBoost...\n",
      "✅ Accuracy: 0.9992\n",
      "              precision    recall  f1-score   support\n",
      "\n",
      "           0       1.00      0.99      1.00       144\n",
      "           1       1.00      1.00      1.00      2400\n",
      "           2       0.99      1.00      1.00       110\n",
      "\n",
      "    accuracy                           1.00      2654\n",
      "   macro avg       1.00      1.00      1.00      2654\n",
      "weighted avg       1.00      1.00      1.00      2654\n",
      "\n",
      "📊 SHAP Explanation for XGBoost\n"
     ]
    },
    {
     "name": "stderr",
     "output_type": "stream",
     "text": [
      "c:\\Users\\91800\\Desktop\\network-threat\\venv\\lib\\site-packages\\xgboost\\core.py:158: UserWarning: [02:39:21] WARNING: C:\\buildkite-agent\\builds\\buildkite-windows-cpu-autoscaling-group-i-08cbc0333d8d4aae1-1\\xgboost\\xgboost-ci-windows\\src\\learner.cc:740: \n",
      "Parameters: { \"use_label_encoder\" } are not used.\n",
      "\n",
      "  warnings.warn(smsg, UserWarning)\n"
     ]
    },
    {
     "data": {
      "image/png": "[encoded data removed]",
      "text/plain": [
       "<Figure size 800x390 with 1 Axes>"
      ]
     },
     "metadata": {},
     "output_type": "display_data"
    },
    {
     "name": "stdout",
     "output_type": "stream",
     "text": [
      "\n",
      "🔍 Training MLP...\n",
      "✅ Accuracy: 0.9868\n",
      "              precision    recall  f1-score   support\n",
      "\n",
      "           0       0.94      0.87      0.90       144\n",
      "           1       0.99      0.99      0.99      2400\n",
      "           2       0.93      1.00      0.96       110\n",
      "\n",
      "    accuracy                           0.99      2654\n",
      "   macro avg       0.95      0.95      0.95      2654\n",
      "weighted avg       0.99      0.99      0.99      2654\n",
      "\n",
      "📊 SHAP Explanation for MLP\n"
     ]
    },
    {
     "name": "stderr",
     "output_type": "stream",
     "text": [
      "100%|██████████| 200/200 [00:02<00:00, 91.09it/s]\n"
     ]
    },
    {
     "data": {
      "image/png": "[encoded data removed]",
      "text/plain": [
       "<Figure size 800x390 with 1 Axes>"
      ]
     },
     "metadata": {},
     "output_type": "display_data"
    }
   ],
   "source": [
    "for name, model in models.items():\n",
    "    print(f\"\\n🔍 Training {name}...\")\n",
    "    model.fit(X_train, y_train)\n",
    "    y_pred = model.predict(X_test)\n",
    "    \n",
    "    acc = accuracy_score(y_test, y_pred)\n",
    "    print(f\"✅ Accuracy: {acc:.4f}\")\n",
    "    print(classification_report(y_test, y_pred))\n",
    "\n",
    "    # SHAP explanation\n",
    "    print(f\"📊 SHAP Explanation for {name}\")\n",
    "    \n",
    "    # Tree-based models use TreeExplainer\n",
    "    if name in ['Random Forest', 'XGBoost', 'Decision Tree']:\n",
    "        explainer = shap.TreeExplainer(model)\n",
    "        shap_values = explainer.shap_values(X_sample)\n",
    "        shap.summary_plot(shap_values, X_sample, plot_type=\"bar\", show=True)\n",
    "    \n",
    "    # Model-agnostic SHAP (slow, so sample used)\n",
    "    else:\n",
    "        # Convert model to function for KernelExplainer\n",
    "        explainer = shap.KernelExplainer(model.predict_proba, X_train.iloc[:100])\n",
    "        shap_values = explainer.shap_values(X_sample)\n",
    "        shap.summary_plot(shap_values, X_sample, plot_type=\"bar\", show=True)\n"
   ]
  },
  {
   "cell_type": "markdown",
   "id": "e4bdd95b",
   "metadata": {
    "papermill": {
     "duration": 0.02522,
     "end_time": "2025-07-21T10:47:22.807243",
     "exception": false,
     "start_time": "2025-07-21T10:47:22.782023",
     "status": "completed"
    },
    "tags": []
   },
   "source": [
    "Since all models performed exceptionally well on the test dataset, I'll proceed with the Decision Tree model for the final evaluation."
   ]
  },
  {
   "cell_type": "markdown",
   "id": "7de9e075",
   "metadata": {
    "papermill": {
     "duration": 0.025495,
     "end_time": "2025-07-21T10:47:22.859679",
     "exception": false,
     "start_time": "2025-07-21T10:47:22.834184",
     "status": "completed"
    },
    "tags": []
   },
   "source": [
    "## Model Training"
   ]
  },
  {
   "cell_type": "code",
   "execution_count": 57,
   "id": "72abb833",
   "metadata": {
    "execution": {
     "iopub.execute_input": "2025-07-21T10:47:22.912841Z",
     "iopub.status.busy": "2025-07-21T10:47:22.912409Z",
     "iopub.status.idle": "2025-07-21T10:47:22.939301Z",
     "shell.execute_reply": "2025-07-21T10:47:22.937996Z"
    },
    "papermill": {
     "duration": 0.054882,
     "end_time": "2025-07-21T10:47:22.941201",
     "exception": false,
     "start_time": "2025-07-21T10:47:22.886319",
     "status": "completed"
    },
    "tags": []
   },
   "outputs": [
    {
     "data": {
      "text/html": [
       "<style>#sk-container-id-2 {\n",
       "  /* Definition of color scheme common for light and dark mode */\n",
       "  --sklearn-color-text: #000;\n",
       "  --sklearn-color-text-muted: #666;\n",
       "  --sklearn-color-line: gray;\n",
       "  /* Definition of color scheme for unfitted estimators */\n",
       "  --sklearn-color-unfitted-level-0: #fff5e6;\n",
       "  --sklearn-color-unfitted-level-1: #f6e4d2;\n",
       "  --sklearn-color-unfitted-level-2: #ffe0b3;\n",
       "  --sklearn-color-unfitted-level-3: chocolate;\n",
       "  /* Definition of color scheme for fitted estimators */\n",
       "  --sklearn-color-fitted-level-0: #f0f8ff;\n",
       "  --sklearn-color-fitted-level-1: #d4ebff;\n",
       "  --sklearn-color-fitted-level-2: #b3dbfd;\n",
       "  --sklearn-color-fitted-level-3: cornflowerblue;\n",
       "\n",
       "  /* Specific color for light theme */\n",
       "  --sklearn-color-text-on-default-background: var(--sg-text-color, var(--theme-code-foreground, var(--jp-content-font-color1, black)));\n",
       "  --sklearn-color-background: var(--sg-background-color, var(--theme-background, var(--jp-layout-color0, white)));\n",
       "  --sklearn-color-border-box: var(--sg-text-color, var(--theme-code-foreground, var(--jp-content-font-color1, black)));\n",
       "  --sklearn-color-icon: #696969;\n",
       "\n",
       "  @media (prefers-color-scheme: dark) {\n",
       "    /* Redefinition of color scheme for dark theme */\n",
       "    --sklearn-color-text-on-default-background: var(--sg-text-color, var(--theme-code-foreground, var(--jp-content-font-color1, white)));\n",
       "    --sklearn-color-background: var(--sg-background-color, var(--theme-background, var(--jp-layout-color0, #111)));\n",
       "    --sklearn-color-border-box: var(--sg-text-color, var(--theme-code-foreground, var(--jp-content-font-color1, white)));\n",
       "    --sklearn-color-icon: #878787;\n",
       "  }\n",
       "}\n",
       "\n",
       "#sk-container-id-2 {\n",
       "  color: var(--sklearn-color-text);\n",
       "}\n",
       "\n",
       "#sk-container-id-2 pre {\n",
       "  padding: 0;\n",
       "}\n",
       "\n",
       "#sk-container-id-2 input.sk-hidden--visually {\n",
       "  border: 0;\n",
       "  clip: rect(1px 1px 1px 1px);\n",
       "  clip: rect(1px, 1px, 1px, 1px);\n",
       "  height: 1px;\n",
       "  margin: -1px;\n",
       "  overflow: hidden;\n",
       "  padding: 0;\n",
       "  position: absolute;\n",
       "  width: 1px;\n",
       "}\n",
       "\n",
       "#sk-container-id-2 div.sk-dashed-wrapped {\n",
       "  border: 1px dashed var(--sklearn-color-line);\n",
       "  margin: 0 0.4em 0.5em 0.4em;\n",
       "  box-sizing: border-box;\n",
       "  padding-bottom: 0.4em;\n",
       "  background-color: var(--sklearn-color-background);\n",
       "}\n",
       "\n",
       "#sk-container-id-2 div.sk-container {\n",
       "  /* jupyter's `normalize.less` sets `[hidden] { display: none; }`\n",
       "     but bootstrap.min.css set `[hidden] { display: none !important; }`\n",
       "     so we also need the `!important` here to be able to override the\n",
       "     default hidden behavior on the sphinx rendered scikit-learn.org.\n",
       "     See: https://github.com/scikit-learn/scikit-learn/issues/21755 */\n",
       "  display: inline-block !important;\n",
       "  position: relative;\n",
       "}\n",
       "\n",
       "#sk-container-id-2 div.sk-text-repr-fallback {\n",
       "  display: none;\n",
       "}\n",
       "\n",
       "div.sk-parallel-item,\n",
       "div.sk-serial,\n",
       "div.sk-item {\n",
       "  /* draw centered vertical line to link estimators */\n",
       "  background-image: linear-gradient(var(--sklearn-color-text-on-default-background), var(--sklearn-color-text-on-default-background));\n",
       "  background-size: 2px 100%;\n",
       "  background-repeat: no-repeat;\n",
       "  background-position: center center;\n",
       "}\n",
       "\n",
       "/* Parallel-specific style estimator block */\n",
       "\n",
       "#sk-container-id-2 div.sk-parallel-item::after {\n",
       "  content: \"\";\n",
       "  width: 100%;\n",
       "  border-bottom: 2px solid var(--sklearn-color-text-on-default-background);\n",
       "  flex-grow: 1;\n",
       "}\n",
       "\n",
       "#sk-container-id-2 div.sk-parallel {\n",
       "  display: flex;\n",
       "  align-items: stretch;\n",
       "  justify-content: center;\n",
       "  background-color: var(--sklearn-color-background);\n",
       "  position: relative;\n",
       "}\n",
       "\n",
       "#sk-container-id-2 div.sk-parallel-item {\n",
       "  display: flex;\n",
       "  flex-direction: column;\n",
       "}\n",
       "\n",
       "#sk-container-id-2 div.sk-parallel-item:first-child::after {\n",
       "  align-self: flex-end;\n",
       "  width: 50%;\n",
       "}\n",
       "\n",
       "#sk-container-id-2 div.sk-parallel-item:last-child::after {\n",
       "  align-self: flex-start;\n",
       "  width: 50%;\n",
       "}\n",
       "\n",
       "#sk-container-id-2 div.sk-parallel-item:only-child::after {\n",
       "  width: 0;\n",
       "}\n",
       "\n",
       "/* Serial-specific style estimator block */\n",
       "\n",
       "#sk-container-id-2 div.sk-serial {\n",
       "  display: flex;\n",
       "  flex-direction: column;\n",
       "  align-items: center;\n",
       "  background-color: var(--sklearn-color-background);\n",
       "  padding-right: 1em;\n",
       "  padding-left: 1em;\n",
       "}\n",
       "\n",
       "\n",
       "/* Toggleable style: style used for estimator/Pipeline/ColumnTransformer box that is\n",
       "clickable and can be expanded/collapsed.\n",
       "- Pipeline and ColumnTransformer use this feature and define the default style\n",
       "- Estimators will overwrite some part of the style using the `sk-estimator` class\n",
       "*/\n",
       "\n",
       "/* Pipeline and ColumnTransformer style (default) */\n",
       "\n",
       "#sk-container-id-2 div.sk-toggleable {\n",
       "  /* Default theme specific background. It is overwritten whether we have a\n",
       "  specific estimator or a Pipeline/ColumnTransformer */\n",
       "  background-color: var(--sklearn-color-background);\n",
       "}\n",
       "\n",
       "/* Toggleable label */\n",
       "#sk-container-id-2 label.sk-toggleable__label {\n",
       "  cursor: pointer;\n",
       "  display: flex;\n",
       "  width: 100%;\n",
       "  margin-bottom: 0;\n",
       "  padding: 0.5em;\n",
       "  box-sizing: border-box;\n",
       "  text-align: center;\n",
       "  align-items: start;\n",
       "  justify-content: space-between;\n",
       "  gap: 0.5em;\n",
       "}\n",
       "\n",
       "#sk-container-id-2 label.sk-toggleable__label .caption {\n",
       "  font-size: 0.6rem;\n",
       "  font-weight: lighter;\n",
       "  color: var(--sklearn-color-text-muted);\n",
       "}\n",
       "\n",
       "#sk-container-id-2 label.sk-toggleable__label-arrow:before {\n",
       "  /* Arrow on the left of the label */\n",
       "  content: \"▸\";\n",
       "  float: left;\n",
       "  margin-right: 0.25em;\n",
       "  color: var(--sklearn-color-icon);\n",
       "}\n",
       "\n",
       "#sk-container-id-2 label.sk-toggleable__label-arrow:hover:before {\n",
       "  color: var(--sklearn-color-text);\n",
       "}\n",
       "\n",
       "/* Toggleable content - dropdown */\n",
       "\n",
       "#sk-container-id-2 div.sk-toggleable__content {\n",
       "  max-height: 0;\n",
       "  max-width: 0;\n",
       "  overflow: hidden;\n",
       "  text-align: left;\n",
       "  /* unfitted */\n",
       "  background-color: var(--sklearn-color-unfitted-level-0);\n",
       "}\n",
       "\n",
       "#sk-container-id-2 div.sk-toggleable__content.fitted {\n",
       "  /* fitted */\n",
       "  background-color: var(--sklearn-color-fitted-level-0);\n",
       "}\n",
       "\n",
       "#sk-container-id-2 div.sk-toggleable__content pre {\n",
       "  margin: 0.2em;\n",
       "  border-radius: 0.25em;\n",
       "  color: var(--sklearn-color-text);\n",
       "  /* unfitted */\n",
       "  background-color: var(--sklearn-color-unfitted-level-0);\n",
       "}\n",
       "\n",
       "#sk-container-id-2 div.sk-toggleable__content.fitted pre {\n",
       "  /* unfitted */\n",
       "  background-color: var(--sklearn-color-fitted-level-0);\n",
       "}\n",
       "\n",
       "#sk-container-id-2 input.sk-toggleable__control:checked~div.sk-toggleable__content {\n",
       "  /* Expand drop-down */\n",
       "  max-height: 200px;\n",
       "  max-width: 100%;\n",
       "  overflow: auto;\n",
       "}\n",
       "\n",
       "#sk-container-id-2 input.sk-toggleable__control:checked~label.sk-toggleable__label-arrow:before {\n",
       "  content: \"▾\";\n",
       "}\n",
       "\n",
       "/* Pipeline/ColumnTransformer-specific style */\n",
       "\n",
       "#sk-container-id-2 div.sk-label input.sk-toggleable__control:checked~label.sk-toggleable__label {\n",
       "  color: var(--sklearn-color-text);\n",
       "  background-color: var(--sklearn-color-unfitted-level-2);\n",
       "}\n",
       "\n",
       "#sk-container-id-2 div.sk-label.fitted input.sk-toggleable__control:checked~label.sk-toggleable__label {\n",
       "  background-color: var(--sklearn-color-fitted-level-2);\n",
       "}\n",
       "\n",
       "/* Estimator-specific style */\n",
       "\n",
       "/* Colorize estimator box */\n",
       "#sk-container-id-2 div.sk-estimator input.sk-toggleable__control:checked~label.sk-toggleable__label {\n",
       "  /* unfitted */\n",
       "  background-color: var(--sklearn-color-unfitted-level-2);\n",
       "}\n",
       "\n",
       "#sk-container-id-2 div.sk-estimator.fitted input.sk-toggleable__control:checked~label.sk-toggleable__label {\n",
       "  /* fitted */\n",
       "  background-color: var(--sklearn-color-fitted-level-2);\n",
       "}\n",
       "\n",
       "#sk-container-id-2 div.sk-label label.sk-toggleable__label,\n",
       "#sk-container-id-2 div.sk-label label {\n",
       "  /* The background is the default theme color */\n",
       "  color: var(--sklearn-color-text-on-default-background);\n",
       "}\n",
       "\n",
       "/* On hover, darken the color of the background */\n",
       "#sk-container-id-2 div.sk-label:hover label.sk-toggleable__label {\n",
       "  color: var(--sklearn-color-text);\n",
       "  background-color: var(--sklearn-color-unfitted-level-2);\n",
       "}\n",
       "\n",
       "/* Label box, darken color on hover, fitted */\n",
       "#sk-container-id-2 div.sk-label.fitted:hover label.sk-toggleable__label.fitted {\n",
       "  color: var(--sklearn-color-text);\n",
       "  background-color: var(--sklearn-color-fitted-level-2);\n",
       "}\n",
       "\n",
       "/* Estimator label */\n",
       "\n",
       "#sk-container-id-2 div.sk-label label {\n",
       "  font-family: monospace;\n",
       "  font-weight: bold;\n",
       "  display: inline-block;\n",
       "  line-height: 1.2em;\n",
       "}\n",
       "\n",
       "#sk-container-id-2 div.sk-label-container {\n",
       "  text-align: center;\n",
       "}\n",
       "\n",
       "/* Estimator-specific */\n",
       "#sk-container-id-2 div.sk-estimator {\n",
       "  font-family: monospace;\n",
       "  border: 1px dotted var(--sklearn-color-border-box);\n",
       "  border-radius: 0.25em;\n",
       "  box-sizing: border-box;\n",
       "  margin-bottom: 0.5em;\n",
       "  /* unfitted */\n",
       "  background-color: var(--sklearn-color-unfitted-level-0);\n",
       "}\n",
       "\n",
       "#sk-container-id-2 div.sk-estimator.fitted {\n",
       "  /* fitted */\n",
       "  background-color: var(--sklearn-color-fitted-level-0);\n",
       "}\n",
       "\n",
       "/* on hover */\n",
       "#sk-container-id-2 div.sk-estimator:hover {\n",
       "  /* unfitted */\n",
       "  background-color: var(--sklearn-color-unfitted-level-2);\n",
       "}\n",
       "\n",
       "#sk-container-id-2 div.sk-estimator.fitted:hover {\n",
       "  /* fitted */\n",
       "  background-color: var(--sklearn-color-fitted-level-2);\n",
       "}\n",
       "\n",
       "/* Specification for estimator info (e.g. \"i\" and \"?\") */\n",
       "\n",
       "/* Common style for \"i\" and \"?\" */\n",
       "\n",
       ".sk-estimator-doc-link,\n",
       "a:link.sk-estimator-doc-link,\n",
       "a:visited.sk-estimator-doc-link {\n",
       "  float: right;\n",
       "  font-size: smaller;\n",
       "  line-height: 1em;\n",
       "  font-family: monospace;\n",
       "  background-color: var(--sklearn-color-background);\n",
       "  border-radius: 1em;\n",
       "  height: 1em;\n",
       "  width: 1em;\n",
       "  text-decoration: none !important;\n",
       "  margin-left: 0.5em;\n",
       "  text-align: center;\n",
       "  /* unfitted */\n",
       "  border: var(--sklearn-color-unfitted-level-1) 1pt solid;\n",
       "  color: var(--sklearn-color-unfitted-level-1);\n",
       "}\n",
       "\n",
       ".sk-estimator-doc-link.fitted,\n",
       "a:link.sk-estimator-doc-link.fitted,\n",
       "a:visited.sk-estimator-doc-link.fitted {\n",
       "  /* fitted */\n",
       "  border: var(--sklearn-color-fitted-level-1) 1pt solid;\n",
       "  color: var(--sklearn-color-fitted-level-1);\n",
       "}\n",
       "\n",
       "/* On hover */\n",
       "div.sk-estimator:hover .sk-estimator-doc-link:hover,\n",
       ".sk-estimator-doc-link:hover,\n",
       "div.sk-label-container:hover .sk-estimator-doc-link:hover,\n",
       ".sk-estimator-doc-link:hover {\n",
       "  /* unfitted */\n",
       "  background-color: var(--sklearn-color-unfitted-level-3);\n",
       "  color: var(--sklearn-color-background);\n",
       "  text-decoration: none;\n",
       "}\n",
       "\n",
       "div.sk-estimator.fitted:hover .sk-estimator-doc-link.fitted:hover,\n",
       ".sk-estimator-doc-link.fitted:hover,\n",
       "div.sk-label-container:hover .sk-estimator-doc-link.fitted:hover,\n",
       ".sk-estimator-doc-link.fitted:hover {\n",
       "  /* fitted */\n",
       "  background-color: var(--sklearn-color-fitted-level-3);\n",
       "  color: var(--sklearn-color-background);\n",
       "  text-decoration: none;\n",
       "}\n",
       "\n",
       "/* Span, style for the box shown on hovering the info icon */\n",
       ".sk-estimator-doc-link span {\n",
       "  display: none;\n",
       "  z-index: 9999;\n",
       "  position: relative;\n",
       "  font-weight: normal;\n",
       "  right: .2ex;\n",
       "  padding: .5ex;\n",
       "  margin: .5ex;\n",
       "  width: min-content;\n",
       "  min-width: 20ex;\n",
       "  max-width: 50ex;\n",
       "  color: var(--sklearn-color-text);\n",
       "  box-shadow: 2pt 2pt 4pt #999;\n",
       "  /* unfitted */\n",
       "  background: var(--sklearn-color-unfitted-level-0);\n",
       "  border: .5pt solid var(--sklearn-color-unfitted-level-3);\n",
       "}\n",
       "\n",
       ".sk-estimator-doc-link.fitted span {\n",
       "  /* fitted */\n",
       "  background: var(--sklearn-color-fitted-level-0);\n",
       "  border: var(--sklearn-color-fitted-level-3);\n",
       "}\n",
       "\n",
       ".sk-estimator-doc-link:hover span {\n",
       "  display: block;\n",
       "}\n",
       "\n",
       "/* \"?\"-specific style due to the `<a>` HTML tag */\n",
       "\n",
       "#sk-container-id-2 a.estimator_doc_link {\n",
       "  float: right;\n",
       "  font-size: 1rem;\n",
       "  line-height: 1em;\n",
       "  font-family: monospace;\n",
       "  background-color: var(--sklearn-color-background);\n",
       "  border-radius: 1rem;\n",
       "  height: 1rem;\n",
       "  width: 1rem;\n",
       "  text-decoration: none;\n",
       "  /* unfitted */\n",
       "  color: var(--sklearn-color-unfitted-level-1);\n",
       "  border: var(--sklearn-color-unfitted-level-1) 1pt solid;\n",
       "}\n",
       "\n",
       "#sk-container-id-2 a.estimator_doc_link.fitted {\n",
       "  /* fitted */\n",
       "  border: var(--sklearn-color-fitted-level-1) 1pt solid;\n",
       "  color: var(--sklearn-color-fitted-level-1);\n",
       "}\n",
       "\n",
       "/* On hover */\n",
       "#sk-container-id-2 a.estimator_doc_link:hover {\n",
       "  /* unfitted */\n",
       "  background-color: var(--sklearn-color-unfitted-level-3);\n",
       "  color: var(--sklearn-color-background);\n",
       "  text-decoration: none;\n",
       "}\n",
       "\n",
       "#sk-container-id-2 a.estimator_doc_link.fitted:hover {\n",
       "  /* fitted */\n",
       "  background-color: var(--sklearn-color-fitted-level-3);\n",
       "}\n",
       "</style><div id=\"sk-container-id-2\" class=\"sk-top-container\"><div class=\"sk-text-repr-fallback\"><pre>DecisionTreeClassifier(random_state=42)</pre><b>In a Jupyter environment, please rerun this cell to show the HTML representation or trust the notebook. <br />On GitHub, the HTML representation is unable to render, please try loading this page with nbviewer.org.</b></div><div class=\"sk-container\" hidden><div class=\"sk-item\"><div class=\"sk-estimator fitted sk-toggleable\"><input class=\"sk-toggleable__control sk-hidden--visually\" id=\"sk-estimator-id-2\" type=\"checkbox\" checked><label for=\"sk-estimator-id-2\" class=\"sk-toggleable__label fitted sk-toggleable__label-arrow\"><div><div>DecisionTreeClassifier</div></div><div><a class=\"sk-estimator-doc-link fitted\" rel=\"noreferrer\" target=\"_blank\" href=\"https://scikit-learn.org/1.6/modules/generated/sklearn.tree.DecisionTreeClassifier.html\">?<span>Documentation for DecisionTreeClassifier</span></a><span class=\"sk-estimator-doc-link fitted\">i<span>Fitted</span></span></div></label><div class=\"sk-toggleable__content fitted\"><pre>DecisionTreeClassifier(random_state=42)</pre></div> </div></div></div></div>"
      ],
      "text/plain": [
       "DecisionTreeClassifier(random_state=42)"
      ]
     },
     "execution_count": 57,
     "metadata": {},
     "output_type": "execute_result"
    }
   ],
   "source": [
    "dt_model = DecisionTreeClassifier(random_state=42)\n",
    "dt_model.fit(X_train, y_train)\n"
   ]
  },
  {
   "cell_type": "markdown",
   "id": "03f59973",
   "metadata": {
    "papermill": {
     "duration": 0.025253,
     "end_time": "2025-07-21T10:47:22.992629",
     "exception": false,
     "start_time": "2025-07-21T10:47:22.967376",
     "status": "completed"
    },
    "tags": []
   },
   "source": [
    "## Model Testing"
   ]
  },
  {
   "cell_type": "markdown",
   "id": "b07da5f9",
   "metadata": {
    "papermill": {
     "duration": 0.024551,
     "end_time": "2025-07-21T10:47:23.042236",
     "exception": false,
     "start_time": "2025-07-21T10:47:23.017685",
     "status": "completed"
    },
    "tags": []
   },
   "source": [
    "Predict on the test set"
   ]
  },
  {
   "cell_type": "code",
   "execution_count": 58,
   "id": "d529403a",
   "metadata": {
    "execution": {
     "iopub.execute_input": "2025-07-21T10:47:23.093621Z",
     "iopub.status.busy": "2025-07-21T10:47:23.093251Z",
     "iopub.status.idle": "2025-07-21T10:47:23.101619Z",
     "shell.execute_reply": "2025-07-21T10:47:23.100357Z"
    },
    "papermill": {
     "duration": 0.036439,
     "end_time": "2025-07-21T10:47:23.103505",
     "exception": false,
     "start_time": "2025-07-21T10:47:23.067066",
     "status": "completed"
    },
    "tags": []
   },
   "outputs": [],
   "source": [
    "y_pred = dt_model.predict(X_test)"
   ]
  },
  {
   "cell_type": "code",
   "execution_count": 59,
   "id": "2cb85be8",
   "metadata": {
    "execution": {
     "iopub.execute_input": "2025-07-21T10:47:23.155714Z",
     "iopub.status.busy": "2025-07-21T10:47:23.155238Z",
     "iopub.status.idle": "2025-07-21T10:47:23.171540Z",
     "shell.execute_reply": "2025-07-21T10:47:23.170046Z"
    },
    "papermill": {
     "duration": 0.047741,
     "end_time": "2025-07-21T10:47:23.176681",
     "exception": false,
     "start_time": "2025-07-21T10:47:23.128940",
     "status": "completed"
    },
    "tags": []
   },
   "outputs": [
    {
     "name": "stdout",
     "output_type": "stream",
     "text": [
      "              precision    recall  f1-score   support\n",
      "\n",
      "           0       1.00      0.99      0.99       144\n",
      "           1       1.00      1.00      1.00      2400\n",
      "           2       1.00      1.00      1.00       110\n",
      "\n",
      "    accuracy                           1.00      2654\n",
      "   macro avg       1.00      1.00      1.00      2654\n",
      "weighted avg       1.00      1.00      1.00      2654\n",
      "\n"
     ]
    }
   ],
   "source": [
    "report = classification_report(y_test, y_pred, output_dict=False)\n",
    "print(report)"
   ]
  },
  {
   "cell_type": "code",
   "execution_count": 60,
   "id": "bc3295ab",
   "metadata": {
    "execution": {
     "iopub.execute_input": "2025-07-21T10:47:23.232218Z",
     "iopub.status.busy": "2025-07-21T10:47:23.231877Z",
     "iopub.status.idle": "2025-07-21T10:47:23.466573Z",
     "shell.execute_reply": "2025-07-21T10:47:23.465455Z"
    },
    "papermill": {
     "duration": 0.260988,
     "end_time": "2025-07-21T10:47:23.468604",
     "exception": false,
     "start_time": "2025-07-21T10:47:23.207616",
     "status": "completed"
    },
    "tags": []
   },
   "outputs": [
    {
     "data": {
      "text/plain": [
       "<sklearn.metrics._plot.confusion_matrix.ConfusionMatrixDisplay at 0x25256fc09a0>"
      ]
     },
     "execution_count": 60,
     "metadata": {},
     "output_type": "execute_result"
    },
    {
     "data": {
      "image/png": "[encoded data removed]",
      "text/plain": [
       "<Figure size 640x480 with 2 Axes>"
      ]
     },
     "metadata": {},
     "output_type": "display_data"
    }
   ],
   "source": [
    "cm = confusion_matrix(y_test, y_pred)\n",
    "disp = ConfusionMatrixDisplay(confusion_matrix=cm, display_labels=dt_model.classes_)\n",
    "disp.plot()\n"
   ]
  },
  {
   "cell_type": "markdown",
   "id": "ea0af267",
   "metadata": {
    "papermill": {
     "duration": 0.025453,
     "end_time": "2025-07-21T10:47:23.520552",
     "exception": false,
     "start_time": "2025-07-21T10:47:23.495099",
     "status": "completed"
    },
    "tags": []
   },
   "source": [
    "## Save the model"
   ]
  },
  {
   "cell_type": "code",
   "execution_count": 63,
   "id": "58ba7bf6",
   "metadata": {
    "papermill": {
     "duration": 0.026342,
     "end_time": "2025-07-21T10:47:23.641051",
     "exception": false,
     "start_time": "2025-07-21T10:47:23.614709",
     "status": "completed"
    },
    "tags": []
   },
   "outputs": [
    {
     "data": {
      "text/plain": [
       "['network_logs_decision_tree_model.joblib']"
      ]
     },
     "execution_count": 63,
     "metadata": {},
     "output_type": "execute_result"
    }
   ],
   "source": [
    "import joblib\n",
    "joblib.dump(dt_model, 'network_logs_decision_tree_model.joblib')\n"
   ]
  },
  {
   "cell_type": "code",
   "execution_count": 64,
   "id": "987a8f8e",
   "metadata": {},
   "outputs": [
    {
     "data": {
      "text/plain": [
       "['scaler_payload.joblib']"
      ]
     },
     "execution_count": 64,
     "metadata": {},
     "output_type": "execute_result"
    }
   ],
   "source": [
    "joblib.dump(scaler, 'scaler_payload.joblib')"
   ]
  },
  {
   "cell_type": "code",
   "execution_count": 49,
   "id": "a663804e",
   "metadata": {},
   "outputs": [
    {
     "name": "stdout",
     "output_type": "stream",
     "text": [
      "Index(['Port', 'Payload_Size', 'Request_Type', 'Protocol', 'User_Agent',\n",
      "       'Status', 'Source_IP', 'Destination_IP'],\n",
      "      dtype='object')\n"
     ]
    }
   ],
   "source": [
    "print(X.columns)  # X is your training features DataFrame\n"
   ]
  },
  {
   "cell_type": "code",
   "execution_count": 50,
   "id": "8822a91c",
   "metadata": {},
   "outputs": [
    {
     "name": "stdout",
     "output_type": "stream",
     "text": [
      "['Port' 'Request_Type' 'Protocol' 'Payload_Size' 'User_Agent' 'Status']\n"
     ]
    }
   ],
   "source": [
    "print(model.feature_names_in_)  # This works for scikit-learn 1.0+\n"
   ]
  },
  {
   "cell_type": "code",
   "execution_count": 65,
   "id": "ed9172e0",
   "metadata": {},
   "outputs": [
    {
     "data": {
      "text/plain": [
       "['payload_scaler.joblib']"
      ]
     },
     "execution_count": 65,
     "metadata": {},
     "output_type": "execute_result"
    }
   ],
   "source": [
    "joblib.dump(scaler, 'payload_scaler.joblib')"
   ]
  },
  {
   "cell_type": "code",
   "execution_count": null,
   "id": "40445d51",
   "metadata": {},
   "outputs": [],
   "source": []
  }
 ],
 "metadata": {
  "kaggle": {
   "accelerator": "none",
   "dataSources": [
    {
     "datasetId": 7784502,
     "sourceId": 12348075,
     "sourceType": "datasetVersion"
    }
   ],
   "dockerImageVersionId": 31089,
   "isGpuEnabled": false,
   "isInternetEnabled": true,
   "language": "python",
   "sourceType": "notebook"
  },
  "kernelspec": {
   "display_name": "venv",
   "language": "python",
   "name": "python3"
  },
  "language_info": {
   "codemirror_mode": {
    "name": "ipython",
    "version": 3
   },
   "file_extension": ".py",
   "mimetype": "text/x-python",
   "name": "python",
   "nbconvert_exporter": "python",
   "pygments_lexer": "ipython3",
   "version": "3.9.13"
  },
  "papermill": {
   "default_parameters": {},
   "duration": 86.33486,
   "end_time": "2025-07-21T10:47:26.432229",
   "environment_variables": {},
   "exception": null,
   "input_path": "__notebook__.ipynb",
   "output_path": "__notebook__.ipynb",
   "parameters": {},
   "start_time": "2025-07-21T10:46:00.097369",
   "version": "2.6.0"
  },
  "widgets": {
   "application/vnd.jupyter.widget-state+json": {
    "state": {
     "01f8db04690747fbbfd65e4a1f501f88": {
      "model_module": "@jupyter-widgets/base",
      "model_module_version": "2.0.0",
      "model_name": "LayoutModel",
      "state": {
       "_model_module": "@jupyter-widgets/base",
       "_model_module_version": "2.0.0",
       "_model_name": "LayoutModel",
       "_view_count": null,
       "_view_module": "@jupyter-widgets/base",
       "_view_module_version": "2.0.0",
       "_view_name": "LayoutView",
       "align_content": null,
       "align_items": null,
       "align_self": null,
       "border_bottom": null,
       "border_left": null,
       "border_right": null,
       "border_top": null,
       "bottom": null,
       "display": null,
       "flex": null,
       "flex_flow": null,
       "grid_area": null,
       "grid_auto_columns": null,
       "grid_auto_flow": null,
       "grid_auto_rows": null,
       "grid_column": null,
       "grid_gap": null,
       "grid_row": null,
       "grid_template_areas": null,
       "grid_template_columns": null,
       "grid_template_rows": null,
       "height": null,
       "justify_content": null,
       "justify_items": null,
       "left": null,
       "margin": null,
       "max_height": null,
       "max_width": null,
       "min_height": null,
       "min_width": null,
       "object_fit": null,
       "object_position": null,
       "order": null,
       "overflow": null,
       "padding": null,
       "right": null,
       "top": null,
       "visibility": null,
       "width": null
      }
     },
     "020614e01f8b4df2b8ad687ab9ef56d9": {
      "model_module": "@jupyter-widgets/controls",
      "model_module_version": "2.0.0",
      "model_name": "HTMLStyleModel",
      "state": {
       "_model_module": "@jupyter-widgets/controls",
       "_model_module_version": "2.0.0",
       "_model_name": "HTMLStyleModel",
       "_view_count": null,
       "_view_module": "@jupyter-widgets/base",
       "_view_module_version": "2.0.0",
       "_view_name": "StyleView",
       "background": null,
       "description_width": "",
       "font_size": null,
       "text_color": null
      }
     },
     "03065007583c4fb6a992892b22f2101b": {
      "model_module": "@jupyter-widgets/controls",
      "model_module_version": "2.0.0",
      "model_name": "FloatProgressModel",
      "state": {
       "_dom_classes": [],
       "_model_module": "@jupyter-widgets/controls",
       "_model_module_version": "2.0.0",
       "_model_name": "FloatProgressModel",
       "_view_count": null,
       "_view_module": "@jupyter-widgets/controls",
       "_view_module_version": "2.0.0",
       "_view_name": "ProgressView",
       "bar_style": "success",
       "description": "",
       "description_allow_html": false,
       "layout": "IPY_MODEL_038d9063aa1a41898ae65cd9f6bd0b12",
       "max": 200,
       "min": 0,
       "orientation": "horizontal",
       "style": "IPY_MODEL_b540ded6618d46ce971785313c01e8f8",
       "tabbable": null,
       "tooltip": null,
       "value": 200
      }
     },
     "038d9063aa1a41898ae65cd9f6bd0b12": {
      "model_module": "@jupyter-widgets/base",
      "model_module_version": "2.0.0",
      "model_name": "LayoutModel",
      "state": {
       "_model_module": "@jupyter-widgets/base",
       "_model_module_version": "2.0.0",
       "_model_name": "LayoutModel",
       "_view_count": null,
       "_view_module": "@jupyter-widgets/base",
       "_view_module_version": "2.0.0",
       "_view_name": "LayoutView",
       "align_content": null,
       "align_items": null,
       "align_self": null,
       "border_bottom": null,
       "border_left": null,
       "border_right": null,
       "border_top": null,
       "bottom": null,
       "display": null,
       "flex": null,
       "flex_flow": null,
       "grid_area": null,
       "grid_auto_columns": null,
       "grid_auto_flow": null,
       "grid_auto_rows": null,
       "grid_column": null,
       "grid_gap": null,
       "grid_row": null,
       "grid_template_areas": null,
       "grid_template_columns": null,
       "grid_template_rows": null,
       "height": null,
       "justify_content": null,
       "justify_items": null,
       "left": null,
       "margin": null,
       "max_height": null,
       "max_width": null,
       "min_height": null,
       "min_width": null,
       "object_fit": null,
       "object_position": null,
       "order": null,
       "overflow": null,
       "padding": null,
       "right": null,
       "top": null,
       "visibility": null,
       "width": null
      }
     },
     "18daafb15e504ffd9840e85468239e06": {
      "model_module": "@jupyter-widgets/base",
      "model_module_version": "2.0.0",
      "model_name": "LayoutModel",
      "state": {
       "_model_module": "@jupyter-widgets/base",
       "_model_module_version": "2.0.0",
       "_model_name": "LayoutModel",
       "_view_count": null,
       "_view_module": "@jupyter-widgets/base",
       "_view_module_version": "2.0.0",
       "_view_name": "LayoutView",
       "align_content": null,
       "align_items": null,
       "align_self": null,
       "border_bottom": null,
       "border_left": null,
       "border_right": null,
       "border_top": null,
       "bottom": null,
       "display": null,
       "flex": null,
       "flex_flow": null,
       "grid_area": null,
       "grid_auto_columns": null,
       "grid_auto_flow": null,
       "grid_auto_rows": null,
       "grid_column": null,
       "grid_gap": null,
       "grid_row": null,
       "grid_template_areas": null,
       "grid_template_columns": null,
       "grid_template_rows": null,
       "height": null,
       "justify_content": null,
       "justify_items": null,
       "left": null,
       "margin": null,
       "max_height": null,
       "max_width": null,
       "min_height": null,
       "min_width": null,
       "object_fit": null,
       "object_position": null,
       "order": null,
       "overflow": null,
       "padding": null,
       "right": null,
       "top": null,
       "visibility": null,
       "width": null
      }
     },
     "1e362a9dc87e4294825bdc80d899bcb9": {
      "model_module": "@jupyter-widgets/base",
      "model_module_version": "2.0.0",
      "model_name": "LayoutModel",
      "state": {
       "_model_module": "@jupyter-widgets/base",
       "_model_module_version": "2.0.0",
       "_model_name": "LayoutModel",
       "_view_count": null,
       "_view_module": "@jupyter-widgets/base",
       "_view_module_version": "2.0.0",
       "_view_name": "LayoutView",
       "align_content": null,
       "align_items": null,
       "align_self": null,
       "border_bottom": null,
       "border_left": null,
       "border_right": null,
       "border_top": null,
       "bottom": null,
       "display": null,
       "flex": null,
       "flex_flow": null,
       "grid_area": null,
       "grid_auto_columns": null,
       "grid_auto_flow": null,
       "grid_auto_rows": null,
       "grid_column": null,
       "grid_gap": null,
       "grid_row": null,
       "grid_template_areas": null,
       "grid_template_columns": null,
       "grid_template_rows": null,
       "height": null,
       "justify_content": null,
       "justify_items": null,
       "left": null,
       "margin": null,
       "max_height": null,
       "max_width": null,
       "min_height": null,
       "min_width": null,
       "object_fit": null,
       "object_position": null,
       "order": null,
       "overflow": null,
       "padding": null,
       "right": null,
       "top": null,
       "visibility": null,
       "width": null
      }
     },
     "1efc7f8b714b427895745c28b6c6680b": {
      "model_module": "@jupyter-widgets/controls",
      "model_module_version": "2.0.0",
      "model_name": "HTMLModel",
      "state": {
       "_dom_classes": [],
       "_model_module": "@jupyter-widgets/controls",
       "_model_module_version": "2.0.0",
       "_model_name": "HTMLModel",
       "_view_count": null,
       "_view_module": "@jupyter-widgets/controls",
       "_view_module_version": "2.0.0",
       "_view_name": "HTMLView",
       "description": "",
       "description_allow_html": false,
       "layout": "IPY_MODEL_d2848f4282d6430b8fa2d7ccbda37fc9",
       "placeholder": "​",
       "style": "IPY_MODEL_bc3c6df5a0754b32a42b8b719044d8f4",
       "tabbable": null,
       "tooltip": null,
       "value": " 200/200 [00:07&lt;00:00, 26.63it/s]"
      }
     },
     "2113531383114b9889d755ac0f7e78d0": {
      "model_module": "@jupyter-widgets/base",
      "model_module_version": "2.0.0",
      "model_name": "LayoutModel",
      "state": {
       "_model_module": "@jupyter-widgets/base",
       "_model_module_version": "2.0.0",
       "_model_name": "LayoutModel",
       "_view_count": null,
       "_view_module": "@jupyter-widgets/base",
       "_view_module_version": "2.0.0",
       "_view_name": "LayoutView",
       "align_content": null,
       "align_items": null,
       "align_self": null,
       "border_bottom": null,
       "border_left": null,
       "border_right": null,
       "border_top": null,
       "bottom": null,
       "display": null,
       "flex": null,
       "flex_flow": null,
       "grid_area": null,
       "grid_auto_columns": null,
       "grid_auto_flow": null,
       "grid_auto_rows": null,
       "grid_column": null,
       "grid_gap": null,
       "grid_row": null,
       "grid_template_areas": null,
       "grid_template_columns": null,
       "grid_template_rows": null,
       "height": null,
       "justify_content": null,
       "justify_items": null,
       "left": null,
       "margin": null,
       "max_height": null,
       "max_width": null,
       "min_height": null,
       "min_width": null,
       "object_fit": null,
       "object_position": null,
       "order": null,
       "overflow": null,
       "padding": null,
       "right": null,
       "top": null,
       "visibility": null,
       "width": null
      }
     },
     "2524f9439a2c47d1b63d03a24294dace": {
      "model_module": "@jupyter-widgets/controls",
      "model_module_version": "2.0.0",
      "model_name": "HTMLStyleModel",
      "state": {
       "_model_module": "@jupyter-widgets/controls",
       "_model_module_version": "2.0.0",
       "_model_name": "HTMLStyleModel",
       "_view_count": null,
       "_view_module": "@jupyter-widgets/base",
       "_view_module_version": "2.0.0",
       "_view_name": "StyleView",
       "background": null,
       "description_width": "",
       "font_size": null,
       "text_color": null
      }
     },
     "283d3839e7464b2f95003f882bb8c247": {
      "model_module": "@jupyter-widgets/controls",
      "model_module_version": "2.0.0",
      "model_name": "FloatProgressModel",
      "state": {
       "_dom_classes": [],
       "_model_module": "@jupyter-widgets/controls",
       "_model_module_version": "2.0.0",
       "_model_name": "FloatProgressModel",
       "_view_count": null,
       "_view_module": "@jupyter-widgets/controls",
       "_view_module_version": "2.0.0",
       "_view_name": "ProgressView",
       "bar_style": "success",
       "description": "",
       "description_allow_html": false,
       "layout": "IPY_MODEL_5589d3e12d894569b0b0926ce2c2d843",
       "max": 200,
       "min": 0,
       "orientation": "horizontal",
       "style": "IPY_MODEL_8211e7810424491da35987bb02704422",
       "tabbable": null,
       "tooltip": null,
       "value": 200
      }
     },
     "2bf6d7aeba544c859e1b1303446b7a83": {
      "model_module": "@jupyter-widgets/controls",
      "model_module_version": "2.0.0",
      "model_name": "HTMLModel",
      "state": {
       "_dom_classes": [],
       "_model_module": "@jupyter-widgets/controls",
       "_model_module_version": "2.0.0",
       "_model_name": "HTMLModel",
       "_view_count": null,
       "_view_module": "@jupyter-widgets/controls",
       "_view_module_version": "2.0.0",
       "_view_name": "HTMLView",
       "description": "",
       "description_allow_html": false,
       "layout": "IPY_MODEL_1e362a9dc87e4294825bdc80d899bcb9",
       "placeholder": "​",
       "style": "IPY_MODEL_2524f9439a2c47d1b63d03a24294dace",
       "tabbable": null,
       "tooltip": null,
       "value": "100%"
      }
     },
     "363a2f8e035643ed90782cefd1ea584f": {
      "model_module": "@jupyter-widgets/controls",
      "model_module_version": "2.0.0",
      "model_name": "HTMLModel",
      "state": {
       "_dom_classes": [],
       "_model_module": "@jupyter-widgets/controls",
       "_model_module_version": "2.0.0",
       "_model_name": "HTMLModel",
       "_view_count": null,
       "_view_module": "@jupyter-widgets/controls",
       "_view_module_version": "2.0.0",
       "_view_name": "HTMLView",
       "description": "",
       "description_allow_html": false,
       "layout": "IPY_MODEL_571b1ddd880d4b0f8e414c354ca97b92",
       "placeholder": "​",
       "style": "IPY_MODEL_6ecc25cc5d04423fabaf0e557a3a5b61",
       "tabbable": null,
       "tooltip": null,
       "value": "100%"
      }
     },
     "5589d3e12d894569b0b0926ce2c2d843": {
      "model_module": "@jupyter-widgets/base",
      "model_module_version": "2.0.0",
      "model_name": "LayoutModel",
      "state": {
       "_model_module": "@jupyter-widgets/base",
       "_model_module_version": "2.0.0",
       "_model_name": "LayoutModel",
       "_view_count": null,
       "_view_module": "@jupyter-widgets/base",
       "_view_module_version": "2.0.0",
       "_view_name": "LayoutView",
       "align_content": null,
       "align_items": null,
       "align_self": null,
       "border_bottom": null,
       "border_left": null,
       "border_right": null,
       "border_top": null,
       "bottom": null,
       "display": null,
       "flex": null,
       "flex_flow": null,
       "grid_area": null,
       "grid_auto_columns": null,
       "grid_auto_flow": null,
       "grid_auto_rows": null,
       "grid_column": null,
       "grid_gap": null,
       "grid_row": null,
       "grid_template_areas": null,
       "grid_template_columns": null,
       "grid_template_rows": null,
       "height": null,
       "justify_content": null,
       "justify_items": null,
       "left": null,
       "margin": null,
       "max_height": null,
       "max_width": null,
       "min_height": null,
       "min_width": null,
       "object_fit": null,
       "object_position": null,
       "order": null,
       "overflow": null,
       "padding": null,
       "right": null,
       "top": null,
       "visibility": null,
       "width": null
      }
     },
     "571b1ddd880d4b0f8e414c354ca97b92": {
      "model_module": "@jupyter-widgets/base",
      "model_module_version": "2.0.0",
      "model_name": "LayoutModel",
      "state": {
       "_model_module": "@jupyter-widgets/base",
       "_model_module_version": "2.0.0",
       "_model_name": "LayoutModel",
       "_view_count": null,
       "_view_module": "@jupyter-widgets/base",
       "_view_module_version": "2.0.0",
       "_view_name": "LayoutView",
       "align_content": null,
       "align_items": null,
       "align_self": null,
       "border_bottom": null,
       "border_left": null,
       "border_right": null,
       "border_top": null,
       "bottom": null,
       "display": null,
       "flex": null,
       "flex_flow": null,
       "grid_area": null,
       "grid_auto_columns": null,
       "grid_auto_flow": null,
       "grid_auto_rows": null,
       "grid_column": null,
       "grid_gap": null,
       "grid_row": null,
       "grid_template_areas": null,
       "grid_template_columns": null,
       "grid_template_rows": null,
       "height": null,
       "justify_content": null,
       "justify_items": null,
       "left": null,
       "margin": null,
       "max_height": null,
       "max_width": null,
       "min_height": null,
       "min_width": null,
       "object_fit": null,
       "object_position": null,
       "order": null,
       "overflow": null,
       "padding": null,
       "right": null,
       "top": null,
       "visibility": null,
       "width": null
      }
     },
     "5aae460f17c04ed38ef3fff3c8d82b54": {
      "model_module": "@jupyter-widgets/controls",
      "model_module_version": "2.0.0",
      "model_name": "HBoxModel",
      "state": {
       "_dom_classes": [],
       "_model_module": "@jupyter-widgets/controls",
       "_model_module_version": "2.0.0",
       "_model_name": "HBoxModel",
       "_view_count": null,
       "_view_module": "@jupyter-widgets/controls",
       "_view_module_version": "2.0.0",
       "_view_name": "HBoxView",
       "box_style": "",
       "children": [
        "IPY_MODEL_363a2f8e035643ed90782cefd1ea584f",
        "IPY_MODEL_88d80ba9ed1f4f8dab9b627347b57323",
        "IPY_MODEL_65b8d748ef5b47b38745202795138740"
       ],
       "layout": "IPY_MODEL_b60741131d3648fbbd1a217ddff9ba34",
       "tabbable": null,
       "tooltip": null
      }
     },
     "65b8d748ef5b47b38745202795138740": {
      "model_module": "@jupyter-widgets/controls",
      "model_module_version": "2.0.0",
      "model_name": "HTMLModel",
      "state": {
       "_dom_classes": [],
       "_model_module": "@jupyter-widgets/controls",
       "_model_module_version": "2.0.0",
       "_model_name": "HTMLModel",
       "_view_count": null,
       "_view_module": "@jupyter-widgets/controls",
       "_view_module_version": "2.0.0",
       "_view_name": "HTMLView",
       "description": "",
       "description_allow_html": false,
       "layout": "IPY_MODEL_9eb9c0ef929745d59675aa7d2854ee44",
       "placeholder": "​",
       "style": "IPY_MODEL_852d1fd64e0b43569f3271d7762086a2",
       "tabbable": null,
       "tooltip": null,
       "value": " 200/200 [00:10&lt;00:00, 19.24it/s]"
      }
     },
     "6ecc25cc5d04423fabaf0e557a3a5b61": {
      "model_module": "@jupyter-widgets/controls",
      "model_module_version": "2.0.0",
      "model_name": "HTMLStyleModel",
      "state": {
       "_model_module": "@jupyter-widgets/controls",
       "_model_module_version": "2.0.0",
       "_model_name": "HTMLStyleModel",
       "_view_count": null,
       "_view_module": "@jupyter-widgets/base",
       "_view_module_version": "2.0.0",
       "_view_name": "StyleView",
       "background": null,
       "description_width": "",
       "font_size": null,
       "text_color": null
      }
     },
     "71f78dfa78cd4cd5b31fb432e17ba3d3": {
      "model_module": "@jupyter-widgets/controls",
      "model_module_version": "2.0.0",
      "model_name": "HBoxModel",
      "state": {
       "_dom_classes": [],
       "_model_module": "@jupyter-widgets/controls",
       "_model_module_version": "2.0.0",
       "_model_name": "HBoxModel",
       "_view_count": null,
       "_view_module": "@jupyter-widgets/controls",
       "_view_module_version": "2.0.0",
       "_view_name": "HBoxView",
       "box_style": "",
       "children": [
        "IPY_MODEL_2bf6d7aeba544c859e1b1303446b7a83",
        "IPY_MODEL_283d3839e7464b2f95003f882bb8c247",
        "IPY_MODEL_82a5e51db6654e098018a51ff4d8176b"
       ],
       "layout": "IPY_MODEL_fb65d50e262342e58cd09d85277866b1",
       "tabbable": null,
       "tooltip": null
      }
     },
     "8211e7810424491da35987bb02704422": {
      "model_module": "@jupyter-widgets/controls",
      "model_module_version": "2.0.0",
      "model_name": "ProgressStyleModel",
      "state": {
       "_model_module": "@jupyter-widgets/controls",
       "_model_module_version": "2.0.0",
       "_model_name": "ProgressStyleModel",
       "_view_count": null,
       "_view_module": "@jupyter-widgets/base",
       "_view_module_version": "2.0.0",
       "_view_name": "StyleView",
       "bar_color": null,
       "description_width": ""
      }
     },
     "82a5e51db6654e098018a51ff4d8176b": {
      "model_module": "@jupyter-widgets/controls",
      "model_module_version": "2.0.0",
      "model_name": "HTMLModel",
      "state": {
       "_dom_classes": [],
       "_model_module": "@jupyter-widgets/controls",
       "_model_module_version": "2.0.0",
       "_model_name": "HTMLModel",
       "_view_count": null,
       "_view_module": "@jupyter-widgets/controls",
       "_view_module_version": "2.0.0",
       "_view_name": "HTMLView",
       "description": "",
       "description_allow_html": false,
       "layout": "IPY_MODEL_01f8db04690747fbbfd65e4a1f501f88",
       "placeholder": "​",
       "style": "IPY_MODEL_020614e01f8b4df2b8ad687ab9ef56d9",
       "tabbable": null,
       "tooltip": null,
       "value": " 200/200 [00:22&lt;00:00,  8.97it/s]"
      }
     },
     "852d1fd64e0b43569f3271d7762086a2": {
      "model_module": "@jupyter-widgets/controls",
      "model_module_version": "2.0.0",
      "model_name": "HTMLStyleModel",
      "state": {
       "_model_module": "@jupyter-widgets/controls",
       "_model_module_version": "2.0.0",
       "_model_name": "HTMLStyleModel",
       "_view_count": null,
       "_view_module": "@jupyter-widgets/base",
       "_view_module_version": "2.0.0",
       "_view_name": "StyleView",
       "background": null,
       "description_width": "",
       "font_size": null,
       "text_color": null
      }
     },
     "88d80ba9ed1f4f8dab9b627347b57323": {
      "model_module": "@jupyter-widgets/controls",
      "model_module_version": "2.0.0",
      "model_name": "FloatProgressModel",
      "state": {
       "_dom_classes": [],
       "_model_module": "@jupyter-widgets/controls",
       "_model_module_version": "2.0.0",
       "_model_name": "FloatProgressModel",
       "_view_count": null,
       "_view_module": "@jupyter-widgets/controls",
       "_view_module_version": "2.0.0",
       "_view_name": "ProgressView",
       "bar_style": "success",
       "description": "",
       "description_allow_html": false,
       "layout": "IPY_MODEL_dc913007e16e48efb2baf0c207d2c122",
       "max": 200,
       "min": 0,
       "orientation": "horizontal",
       "style": "IPY_MODEL_bf639d496d3942d38d777168b7e9e148",
       "tabbable": null,
       "tooltip": null,
       "value": 200
      }
     },
     "9e2aba3330124ea69475e70c2cb347d5": {
      "model_module": "@jupyter-widgets/controls",
      "model_module_version": "2.0.0",
      "model_name": "HTMLModel",
      "state": {
       "_dom_classes": [],
       "_model_module": "@jupyter-widgets/controls",
       "_model_module_version": "2.0.0",
       "_model_name": "HTMLModel",
       "_view_count": null,
       "_view_module": "@jupyter-widgets/controls",
       "_view_module_version": "2.0.0",
       "_view_name": "HTMLView",
       "description": "",
       "description_allow_html": false,
       "layout": "IPY_MODEL_2113531383114b9889d755ac0f7e78d0",
       "placeholder": "​",
       "style": "IPY_MODEL_d8ecec79288e48f8bb956e4741eda0f1",
       "tabbable": null,
       "tooltip": null,
       "value": "100%"
      }
     },
     "9eb9c0ef929745d59675aa7d2854ee44": {
      "model_module": "@jupyter-widgets/base",
      "model_module_version": "2.0.0",
      "model_name": "LayoutModel",
      "state": {
       "_model_module": "@jupyter-widgets/base",
       "_model_module_version": "2.0.0",
       "_model_name": "LayoutModel",
       "_view_count": null,
       "_view_module": "@jupyter-widgets/base",
       "_view_module_version": "2.0.0",
       "_view_name": "LayoutView",
       "align_content": null,
       "align_items": null,
       "align_self": null,
       "border_bottom": null,
       "border_left": null,
       "border_right": null,
       "border_top": null,
       "bottom": null,
       "display": null,
       "flex": null,
       "flex_flow": null,
       "grid_area": null,
       "grid_auto_columns": null,
       "grid_auto_flow": null,
       "grid_auto_rows": null,
       "grid_column": null,
       "grid_gap": null,
       "grid_row": null,
       "grid_template_areas": null,
       "grid_template_columns": null,
       "grid_template_rows": null,
       "height": null,
       "justify_content": null,
       "justify_items": null,
       "left": null,
       "margin": null,
       "max_height": null,
       "max_width": null,
       "min_height": null,
       "min_width": null,
       "object_fit": null,
       "object_position": null,
       "order": null,
       "overflow": null,
       "padding": null,
       "right": null,
       "top": null,
       "visibility": null,
       "width": null
      }
     },
     "b540ded6618d46ce971785313c01e8f8": {
      "model_module": "@jupyter-widgets/controls",
      "model_module_version": "2.0.0",
      "model_name": "ProgressStyleModel",
      "state": {
       "_model_module": "@jupyter-widgets/controls",
       "_model_module_version": "2.0.0",
       "_model_name": "ProgressStyleModel",
       "_view_count": null,
       "_view_module": "@jupyter-widgets/base",
       "_view_module_version": "2.0.0",
       "_view_name": "StyleView",
       "bar_color": null,
       "description_width": ""
      }
     },
     "b60741131d3648fbbd1a217ddff9ba34": {
      "model_module": "@jupyter-widgets/base",
      "model_module_version": "2.0.0",
      "model_name": "LayoutModel",
      "state": {
       "_model_module": "@jupyter-widgets/base",
       "_model_module_version": "2.0.0",
       "_model_name": "LayoutModel",
       "_view_count": null,
       "_view_module": "@jupyter-widgets/base",
       "_view_module_version": "2.0.0",
       "_view_name": "LayoutView",
       "align_content": null,
       "align_items": null,
       "align_self": null,
       "border_bottom": null,
       "border_left": null,
       "border_right": null,
       "border_top": null,
       "bottom": null,
       "display": null,
       "flex": null,
       "flex_flow": null,
       "grid_area": null,
       "grid_auto_columns": null,
       "grid_auto_flow": null,
       "grid_auto_rows": null,
       "grid_column": null,
       "grid_gap": null,
       "grid_row": null,
       "grid_template_areas": null,
       "grid_template_columns": null,
       "grid_template_rows": null,
       "height": null,
       "justify_content": null,
       "justify_items": null,
       "left": null,
       "margin": null,
       "max_height": null,
       "max_width": null,
       "min_height": null,
       "min_width": null,
       "object_fit": null,
       "object_position": null,
       "order": null,
       "overflow": null,
       "padding": null,
       "right": null,
       "top": null,
       "visibility": null,
       "width": null
      }
     },
     "bc3c6df5a0754b32a42b8b719044d8f4": {
      "model_module": "@jupyter-widgets/controls",
      "model_module_version": "2.0.0",
      "model_name": "HTMLStyleModel",
      "state": {
       "_model_module": "@jupyter-widgets/controls",
       "_model_module_version": "2.0.0",
       "_model_name": "HTMLStyleModel",
       "_view_count": null,
       "_view_module": "@jupyter-widgets/base",
       "_view_module_version": "2.0.0",
       "_view_name": "StyleView",
       "background": null,
       "description_width": "",
       "font_size": null,
       "text_color": null
      }
     },
     "bf639d496d3942d38d777168b7e9e148": {
      "model_module": "@jupyter-widgets/controls",
      "model_module_version": "2.0.0",
      "model_name": "ProgressStyleModel",
      "state": {
       "_model_module": "@jupyter-widgets/controls",
       "_model_module_version": "2.0.0",
       "_model_name": "ProgressStyleModel",
       "_view_count": null,
       "_view_module": "@jupyter-widgets/base",
       "_view_module_version": "2.0.0",
       "_view_name": "StyleView",
       "bar_color": null,
       "description_width": ""
      }
     },
     "d2848f4282d6430b8fa2d7ccbda37fc9": {
      "model_module": "@jupyter-widgets/base",
      "model_module_version": "2.0.0",
      "model_name": "LayoutModel",
      "state": {
       "_model_module": "@jupyter-widgets/base",
       "_model_module_version": "2.0.0",
       "_model_name": "LayoutModel",
       "_view_count": null,
       "_view_module": "@jupyter-widgets/base",
       "_view_module_version": "2.0.0",
       "_view_name": "LayoutView",
       "align_content": null,
       "align_items": null,
       "align_self": null,
       "border_bottom": null,
       "border_left": null,
       "border_right": null,
       "border_top": null,
       "bottom": null,
       "display": null,
       "flex": null,
       "flex_flow": null,
       "grid_area": null,
       "grid_auto_columns": null,
       "grid_auto_flow": null,
       "grid_auto_rows": null,
       "grid_column": null,
       "grid_gap": null,
       "grid_row": null,
       "grid_template_areas": null,
       "grid_template_columns": null,
       "grid_template_rows": null,
       "height": null,
       "justify_content": null,
       "justify_items": null,
       "left": null,
       "margin": null,
       "max_height": null,
       "max_width": null,
       "min_height": null,
       "min_width": null,
       "object_fit": null,
       "object_position": null,
       "order": null,
       "overflow": null,
       "padding": null,
       "right": null,
       "top": null,
       "visibility": null,
       "width": null
      }
     },
     "d8ecec79288e48f8bb956e4741eda0f1": {
      "model_module": "@jupyter-widgets/controls",
      "model_module_version": "2.0.0",
      "model_name": "HTMLStyleModel",
      "state": {
       "_model_module": "@jupyter-widgets/controls",
       "_model_module_version": "2.0.0",
       "_model_name": "HTMLStyleModel",
       "_view_count": null,
       "_view_module": "@jupyter-widgets/base",
       "_view_module_version": "2.0.0",
       "_view_name": "StyleView",
       "background": null,
       "description_width": "",
       "font_size": null,
       "text_color": null
      }
     },
     "dc913007e16e48efb2baf0c207d2c122": {
      "model_module": "@jupyter-widgets/base",
      "model_module_version": "2.0.0",
      "model_name": "LayoutModel",
      "state": {
       "_model_module": "@jupyter-widgets/base",
       "_model_module_version": "2.0.0",
       "_model_name": "LayoutModel",
       "_view_count": null,
       "_view_module": "@jupyter-widgets/base",
       "_view_module_version": "2.0.0",
       "_view_name": "LayoutView",
       "align_content": null,
       "align_items": null,
       "align_self": null,
       "border_bottom": null,
       "border_left": null,
       "border_right": null,
       "border_top": null,
       "bottom": null,
       "display": null,
       "flex": null,
       "flex_flow": null,
       "grid_area": null,
       "grid_auto_columns": null,
       "grid_auto_flow": null,
       "grid_auto_rows": null,
       "grid_column": null,
       "grid_gap": null,
       "grid_row": null,
       "grid_template_areas": null,
       "grid_template_columns": null,
       "grid_template_rows": null,
       "height": null,
       "justify_content": null,
       "justify_items": null,
       "left": null,
       "margin": null,
       "max_height": null,
       "max_width": null,
       "min_height": null,
       "min_width": null,
       "object_fit": null,
       "object_position": null,
       "order": null,
       "overflow": null,
       "padding": null,
       "right": null,
       "top": null,
       "visibility": null,
       "width": null
      }
     },
     "de82255756d348bdb3f30fbee7762117": {
      "model_module": "@jupyter-widgets/controls",
      "model_module_version": "2.0.0",
      "model_name": "HBoxModel",
      "state": {
       "_dom_classes": [],
       "_model_module": "@jupyter-widgets/controls",
       "_model_module_version": "2.0.0",
       "_model_name": "HBoxModel",
       "_view_count": null,
       "_view_module": "@jupyter-widgets/controls",
       "_view_module_version": "2.0.0",
       "_view_name": "HBoxView",
       "box_style": "",
       "children": [
        "IPY_MODEL_9e2aba3330124ea69475e70c2cb347d5",
        "IPY_MODEL_03065007583c4fb6a992892b22f2101b",
        "IPY_MODEL_1efc7f8b714b427895745c28b6c6680b"
       ],
       "layout": "IPY_MODEL_18daafb15e504ffd9840e85468239e06",
       "tabbable": null,
       "tooltip": null
      }
     },
     "fb65d50e262342e58cd09d85277866b1": {
      "model_module": "@jupyter-widgets/base",
      "model_module_version": "2.0.0",
      "model_name": "LayoutModel",
      "state": {
       "_model_module": "@jupyter-widgets/base",
       "_model_module_version": "2.0.0",
       "_model_name": "LayoutModel",
       "_view_count": null,
       "_view_module": "@jupyter-widgets/base",
       "_view_module_version": "2.0.0",
       "_view_name": "LayoutView",
       "align_content": null,
       "align_items": null,
       "align_self": null,
       "border_bottom": null,
       "border_left": null,
       "border_right": null,
       "border_top": null,
       "bottom": null,
       "display": null,
       "flex": null,
       "flex_flow": null,
       "grid_area": null,
       "grid_auto_columns": null,
       "grid_auto_flow": null,
       "grid_auto_rows": null,
       "grid_column": null,
       "grid_gap": null,
       "grid_row": null,
       "grid_template_areas": null,
       "grid_template_columns": null,
       "grid_template_rows": null,
       "height": null,
       "justify_content": null,
       "justify_items": null,
       "left": null,
       "margin": null,
       "max_height": null,
       "max_width": null,
       "min_height": null,
       "min_width": null,
       "object_fit": null,
       "object_position": null,
       "order": null,
       "overflow": null,
       "padding": null,
       "right": null,
       "top": null,
       "visibility": null,
       "width": null
      }
     }
    },
    "version_major": 2,
    "version_minor": 0
   }
  }
 },
 "nbformat": 4,
 "nbformat_minor": 5
}
